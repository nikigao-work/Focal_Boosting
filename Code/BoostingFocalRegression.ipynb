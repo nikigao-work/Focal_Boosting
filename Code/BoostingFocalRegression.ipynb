{
 "cells": [
  {
   "cell_type": "markdown",
   "id": "8e04f68f-1b27-4e7d-a9c5-5ede46afe31e",
   "metadata": {},
   "source": [
    "import required libs"
   ]
  },
  {
   "cell_type": "code",
   "execution_count": 1,
   "id": "fdfbc028-7221-434c-9f33-f0aafbc16c48",
   "metadata": {
    "execution": {
     "iopub.execute_input": "2024-12-14T18:34:27.275341Z",
     "iopub.status.busy": "2024-12-14T18:34:27.274221Z",
     "iopub.status.idle": "2024-12-14T18:34:27.890701Z",
     "shell.execute_reply": "2024-12-14T18:34:27.889458Z",
     "shell.execute_reply.started": "2024-12-14T18:34:27.275294Z"
    },
    "tags": []
   },
   "outputs": [],
   "source": [
    "import time\n",
    "import numpy as np\n",
    "import pandas as pd\n",
    "import matplotlib.pyplot as plt\n",
    "\n",
    "from sklearn.compose import ColumnTransformer\n",
    "from sklearn.ensemble import RandomForestRegressor, GradientBoostingRegressor, StackingRegressor\n",
    "from sklearn.linear_model import LinearRegression\n",
    "from sklearn.mixture import GaussianMixture\n",
    "from sklearn.metrics import mean_absolute_percentage_error\n",
    "from sklearn.model_selection import train_test_split, KFold\n",
    "from sklearn.pipeline import Pipeline\n",
    "from sklearn.preprocessing import OneHotEncoder, StandardScaler\n",
    "from sklearn.tree import DecisionTreeRegressor\n",
    "\n",
    "from statsmodels.regression.mixed_linear_model import MixedLM\n",
    "from xgboost import XGBRegressor"
   ]
  },
  {
   "cell_type": "markdown",
   "id": "ceaf5869-33f7-4e0a-a419-8223150dc02c",
   "metadata": {},
   "source": [
    "# Downloading the dataset"
   ]
  },
  {
   "cell_type": "code",
   "execution_count": 2,
   "id": "fb93937c-5a1f-4880-b344-ece7b436fac6",
   "metadata": {
    "execution": {
     "iopub.execute_input": "2024-12-14T18:34:27.991708Z",
     "iopub.status.busy": "2024-12-14T18:34:27.989353Z",
     "iopub.status.idle": "2024-12-14T18:34:28.755762Z",
     "shell.execute_reply": "2024-12-14T18:34:28.754882Z",
     "shell.execute_reply.started": "2024-12-14T18:34:27.991659Z"
    },
    "tags": []
   },
   "outputs": [
    {
     "data": {
      "text/html": [
       "<div>\n",
       "<style scoped>\n",
       "    .dataframe tbody tr th:only-of-type {\n",
       "        vertical-align: middle;\n",
       "    }\n",
       "\n",
       "    .dataframe tbody tr th {\n",
       "        vertical-align: top;\n",
       "    }\n",
       "\n",
       "    .dataframe thead th {\n",
       "        text-align: right;\n",
       "    }\n",
       "</style>\n",
       "<table border=\"1\" class=\"dataframe\">\n",
       "  <thead>\n",
       "    <tr style=\"text-align: right;\">\n",
       "      <th></th>\n",
       "      <th>user_id</th>\n",
       "      <th>gym_id</th>\n",
       "      <th>checkin_time</th>\n",
       "      <th>checkout_time</th>\n",
       "      <th>workout_type</th>\n",
       "      <th>calories_burned</th>\n",
       "    </tr>\n",
       "  </thead>\n",
       "  <tbody>\n",
       "    <tr>\n",
       "      <th>0</th>\n",
       "      <td>user_3291</td>\n",
       "      <td>gym_6</td>\n",
       "      <td>2023-09-10 15:55:00</td>\n",
       "      <td>2023-09-10 16:34:00</td>\n",
       "      <td>Weightlifting</td>\n",
       "      <td>462</td>\n",
       "    </tr>\n",
       "    <tr>\n",
       "      <th>1</th>\n",
       "      <td>user_1944</td>\n",
       "      <td>gym_2</td>\n",
       "      <td>2023-04-13 20:07:00</td>\n",
       "      <td>2023-04-13 22:43:00</td>\n",
       "      <td>Yoga</td>\n",
       "      <td>1278</td>\n",
       "    </tr>\n",
       "    <tr>\n",
       "      <th>2</th>\n",
       "      <td>user_958</td>\n",
       "      <td>gym_7</td>\n",
       "      <td>2023-06-10 12:24:00</td>\n",
       "      <td>2023-06-10 13:49:00</td>\n",
       "      <td>Cardio</td>\n",
       "      <td>858</td>\n",
       "    </tr>\n",
       "  </tbody>\n",
       "</table>\n",
       "</div>"
      ],
      "text/plain": [
       "     user_id gym_id  ...   workout_type calories_burned\n",
       "0  user_3291  gym_6  ...  Weightlifting             462\n",
       "1  user_1944  gym_2  ...           Yoga            1278\n",
       "2   user_958  gym_7  ...         Cardio             858\n",
       "\n",
       "[3 rows x 6 columns]"
      ]
     },
     "metadata": {},
     "output_type": "display_data"
    },
    {
     "data": {
      "text/html": [
       "<div>\n",
       "<style scoped>\n",
       "    .dataframe tbody tr th:only-of-type {\n",
       "        vertical-align: middle;\n",
       "    }\n",
       "\n",
       "    .dataframe tbody tr th {\n",
       "        vertical-align: top;\n",
       "    }\n",
       "\n",
       "    .dataframe thead th {\n",
       "        text-align: right;\n",
       "    }\n",
       "</style>\n",
       "<table border=\"1\" class=\"dataframe\">\n",
       "  <thead>\n",
       "    <tr style=\"text-align: right;\">\n",
       "      <th></th>\n",
       "      <th>gym_id</th>\n",
       "      <th>location</th>\n",
       "      <th>gym_type</th>\n",
       "      <th>facilities</th>\n",
       "    </tr>\n",
       "  </thead>\n",
       "  <tbody>\n",
       "    <tr>\n",
       "      <th>0</th>\n",
       "      <td>gym_1</td>\n",
       "      <td>New York</td>\n",
       "      <td>Premium</td>\n",
       "      <td>Climbing Wall, Swimming Pool, Basketball Court</td>\n",
       "    </tr>\n",
       "    <tr>\n",
       "      <th>1</th>\n",
       "      <td>gym_2</td>\n",
       "      <td>Los Angeles</td>\n",
       "      <td>Budget</td>\n",
       "      <td>Climbing Wall, Yoga Classes, Sauna</td>\n",
       "    </tr>\n",
       "    <tr>\n",
       "      <th>2</th>\n",
       "      <td>gym_3</td>\n",
       "      <td>Chicago</td>\n",
       "      <td>Budget</td>\n",
       "      <td>Sauna, Climbing Wall, Swimming Pool</td>\n",
       "    </tr>\n",
       "  </tbody>\n",
       "</table>\n",
       "</div>"
      ],
      "text/plain": [
       "  gym_id     location gym_type                                      facilities\n",
       "0  gym_1     New York  Premium  Climbing Wall, Swimming Pool, Basketball Court\n",
       "1  gym_2  Los Angeles   Budget              Climbing Wall, Yoga Classes, Sauna\n",
       "2  gym_3      Chicago   Budget             Sauna, Climbing Wall, Swimming Pool"
      ]
     },
     "metadata": {},
     "output_type": "display_data"
    },
    {
     "data": {
      "text/html": [
       "<div>\n",
       "<style scoped>\n",
       "    .dataframe tbody tr th:only-of-type {\n",
       "        vertical-align: middle;\n",
       "    }\n",
       "\n",
       "    .dataframe tbody tr th {\n",
       "        vertical-align: top;\n",
       "    }\n",
       "\n",
       "    .dataframe thead th {\n",
       "        text-align: right;\n",
       "    }\n",
       "</style>\n",
       "<table border=\"1\" class=\"dataframe\">\n",
       "  <thead>\n",
       "    <tr style=\"text-align: right;\">\n",
       "      <th></th>\n",
       "      <th>subscription_plan</th>\n",
       "      <th>price_per_month</th>\n",
       "      <th>features</th>\n",
       "    </tr>\n",
       "  </thead>\n",
       "  <tbody>\n",
       "    <tr>\n",
       "      <th>0</th>\n",
       "      <td>Basic</td>\n",
       "      <td>19.99</td>\n",
       "      <td>Access to basic gym facilities, Limited class ...</td>\n",
       "    </tr>\n",
       "    <tr>\n",
       "      <th>1</th>\n",
       "      <td>Pro</td>\n",
       "      <td>49.99</td>\n",
       "      <td>Access to all facilities, Unlimited class acce...</td>\n",
       "    </tr>\n",
       "    <tr>\n",
       "      <th>2</th>\n",
       "      <td>Student</td>\n",
       "      <td>9.99</td>\n",
       "      <td>Access to basic facilities, Limited class acce...</td>\n",
       "    </tr>\n",
       "  </tbody>\n",
       "</table>\n",
       "</div>"
      ],
      "text/plain": [
       "  subscription_plan  ...                                           features\n",
       "0             Basic  ...  Access to basic gym facilities, Limited class ...\n",
       "1               Pro  ...  Access to all facilities, Unlimited class acce...\n",
       "2           Student  ...  Access to basic facilities, Limited class acce...\n",
       "\n",
       "[3 rows x 3 columns]"
      ]
     },
     "metadata": {},
     "output_type": "display_data"
    },
    {
     "data": {
      "text/html": [
       "<div>\n",
       "<style scoped>\n",
       "    .dataframe tbody tr th:only-of-type {\n",
       "        vertical-align: middle;\n",
       "    }\n",
       "\n",
       "    .dataframe tbody tr th {\n",
       "        vertical-align: top;\n",
       "    }\n",
       "\n",
       "    .dataframe thead th {\n",
       "        text-align: right;\n",
       "    }\n",
       "</style>\n",
       "<table border=\"1\" class=\"dataframe\">\n",
       "  <thead>\n",
       "    <tr style=\"text-align: right;\">\n",
       "      <th></th>\n",
       "      <th>user_id</th>\n",
       "      <th>first_name</th>\n",
       "      <th>last_name</th>\n",
       "      <th>age</th>\n",
       "      <th>gender</th>\n",
       "      <th>birthdate</th>\n",
       "      <th>sign_up_date</th>\n",
       "      <th>user_location</th>\n",
       "      <th>subscription_plan</th>\n",
       "    </tr>\n",
       "  </thead>\n",
       "  <tbody>\n",
       "    <tr>\n",
       "      <th>0</th>\n",
       "      <td>user_1</td>\n",
       "      <td>Chris</td>\n",
       "      <td>Wilson</td>\n",
       "      <td>56</td>\n",
       "      <td>Female</td>\n",
       "      <td>2000-02-29</td>\n",
       "      <td>2023-02-06</td>\n",
       "      <td>Denver</td>\n",
       "      <td>Basic</td>\n",
       "    </tr>\n",
       "    <tr>\n",
       "      <th>1</th>\n",
       "      <td>user_2</td>\n",
       "      <td>Michael</td>\n",
       "      <td>Miller</td>\n",
       "      <td>46</td>\n",
       "      <td>Non-binary</td>\n",
       "      <td>1978-12-22</td>\n",
       "      <td>2023-08-08</td>\n",
       "      <td>Orlando</td>\n",
       "      <td>Pro</td>\n",
       "    </tr>\n",
       "    <tr>\n",
       "      <th>2</th>\n",
       "      <td>user_3</td>\n",
       "      <td>Daniel</td>\n",
       "      <td>Smith</td>\n",
       "      <td>32</td>\n",
       "      <td>Female</td>\n",
       "      <td>1962-08-30</td>\n",
       "      <td>2021-01-11</td>\n",
       "      <td>Orlando</td>\n",
       "      <td>Basic</td>\n",
       "    </tr>\n",
       "  </tbody>\n",
       "</table>\n",
       "</div>"
      ],
      "text/plain": [
       "  user_id first_name last_name  ...  sign_up_date user_location subscription_plan\n",
       "0  user_1      Chris    Wilson  ...    2023-02-06        Denver             Basic\n",
       "1  user_2    Michael    Miller  ...    2023-08-08       Orlando               Pro\n",
       "2  user_3     Daniel     Smith  ...    2021-01-11       Orlando             Basic\n",
       "\n",
       "[3 rows x 9 columns]"
      ]
     },
     "metadata": {},
     "output_type": "display_data"
    }
   ],
   "source": [
    "df_1 = pd.read_csv(\"checkin_checkout_history_updated.csv\")\n",
    "display(df_1.head(3))\n",
    "df_2 = pd.read_csv(\"gym_locations_data.csv\")\n",
    "display(df_2.head(3))\n",
    "df_3 = pd.read_csv(\"subscription_plans.csv\")\n",
    "display(df_3.head(3))\n",
    "df_4 = pd.read_csv(\"users_data.csv\")\n",
    "display(df_4.head(3))\n",
    "table_1 = df_1.merge(df_2, right_on=\"gym_id\", left_on=\"gym_id\")\n",
    "table_2 = df_4.merge(df_3, right_on=\"subscription_plan\", left_on=\"subscription_plan\")\n",
    "data = table_1.merge(table_2, right_on=\"user_id\", left_on=\"user_id\")"
   ]
  },
  {
   "cell_type": "code",
   "execution_count": 3,
   "id": "75806c23-2406-46bc-a09b-77b68f2d7a18",
   "metadata": {
    "execution": {
     "iopub.execute_input": "2024-12-14T18:34:28.758086Z",
     "iopub.status.busy": "2024-12-14T18:34:28.757129Z",
     "iopub.status.idle": "2024-12-14T18:34:28.797446Z",
     "shell.execute_reply": "2024-12-14T18:34:28.796518Z",
     "shell.execute_reply.started": "2024-12-14T18:34:28.758047Z"
    },
    "tags": []
   },
   "outputs": [
    {
     "data": {
      "text/html": [
       "<div>\n",
       "<style scoped>\n",
       "    .dataframe tbody tr th:only-of-type {\n",
       "        vertical-align: middle;\n",
       "    }\n",
       "\n",
       "    .dataframe tbody tr th {\n",
       "        vertical-align: top;\n",
       "    }\n",
       "\n",
       "    .dataframe thead th {\n",
       "        text-align: right;\n",
       "    }\n",
       "</style>\n",
       "<table border=\"1\" class=\"dataframe\">\n",
       "  <thead>\n",
       "    <tr style=\"text-align: right;\">\n",
       "      <th></th>\n",
       "      <th>user_id</th>\n",
       "      <th>gym_id</th>\n",
       "      <th>checkin_time</th>\n",
       "      <th>checkout_time</th>\n",
       "      <th>workout_type</th>\n",
       "      <th>calories_burned</th>\n",
       "      <th>location</th>\n",
       "      <th>gym_type</th>\n",
       "      <th>facilities</th>\n",
       "      <th>first_name</th>\n",
       "      <th>last_name</th>\n",
       "      <th>age</th>\n",
       "      <th>gender</th>\n",
       "      <th>birthdate</th>\n",
       "      <th>sign_up_date</th>\n",
       "      <th>user_location</th>\n",
       "      <th>subscription_plan</th>\n",
       "      <th>price_per_month</th>\n",
       "      <th>features</th>\n",
       "    </tr>\n",
       "  </thead>\n",
       "  <tbody>\n",
       "    <tr>\n",
       "      <th>0</th>\n",
       "      <td>user_3291</td>\n",
       "      <td>gym_6</td>\n",
       "      <td>2023-09-10 15:55:00</td>\n",
       "      <td>2023-09-10 16:34:00</td>\n",
       "      <td>Weightlifting</td>\n",
       "      <td>462</td>\n",
       "      <td>Philadelphia</td>\n",
       "      <td>Budget</td>\n",
       "      <td>Swimming Pool, Climbing Wall, Sauna</td>\n",
       "      <td>Michael</td>\n",
       "      <td>Rodriguez</td>\n",
       "      <td>41</td>\n",
       "      <td>Female</td>\n",
       "      <td>1998-03-10</td>\n",
       "      <td>2023-04-08</td>\n",
       "      <td>Atlanta</td>\n",
       "      <td>Pro</td>\n",
       "      <td>49.99</td>\n",
       "      <td>Access to all facilities, Unlimited class acce...</td>\n",
       "    </tr>\n",
       "    <tr>\n",
       "      <th>1</th>\n",
       "      <td>user_3291</td>\n",
       "      <td>gym_6</td>\n",
       "      <td>2023-09-09 08:12:00</td>\n",
       "      <td>2023-09-09 09:55:00</td>\n",
       "      <td>Weightlifting</td>\n",
       "      <td>850</td>\n",
       "      <td>Philadelphia</td>\n",
       "      <td>Budget</td>\n",
       "      <td>Swimming Pool, Climbing Wall, Sauna</td>\n",
       "      <td>Michael</td>\n",
       "      <td>Rodriguez</td>\n",
       "      <td>41</td>\n",
       "      <td>Female</td>\n",
       "      <td>1998-03-10</td>\n",
       "      <td>2023-04-08</td>\n",
       "      <td>Atlanta</td>\n",
       "      <td>Pro</td>\n",
       "      <td>49.99</td>\n",
       "      <td>Access to all facilities, Unlimited class acce...</td>\n",
       "    </tr>\n",
       "    <tr>\n",
       "      <th>2</th>\n",
       "      <td>user_3291</td>\n",
       "      <td>gym_6</td>\n",
       "      <td>2023-07-23 19:58:00</td>\n",
       "      <td>2023-07-23 22:12:00</td>\n",
       "      <td>Cardio</td>\n",
       "      <td>1089</td>\n",
       "      <td>Philadelphia</td>\n",
       "      <td>Budget</td>\n",
       "      <td>Swimming Pool, Climbing Wall, Sauna</td>\n",
       "      <td>Michael</td>\n",
       "      <td>Rodriguez</td>\n",
       "      <td>41</td>\n",
       "      <td>Female</td>\n",
       "      <td>1998-03-10</td>\n",
       "      <td>2023-04-08</td>\n",
       "      <td>Atlanta</td>\n",
       "      <td>Pro</td>\n",
       "      <td>49.99</td>\n",
       "      <td>Access to all facilities, Unlimited class acce...</td>\n",
       "    </tr>\n",
       "  </tbody>\n",
       "</table>\n",
       "</div>"
      ],
      "text/plain": [
       "     user_id  ...                                           features\n",
       "0  user_3291  ...  Access to all facilities, Unlimited class acce...\n",
       "1  user_3291  ...  Access to all facilities, Unlimited class acce...\n",
       "2  user_3291  ...  Access to all facilities, Unlimited class acce...\n",
       "\n",
       "[3 rows x 19 columns]"
      ]
     },
     "metadata": {},
     "output_type": "display_data"
    },
    {
     "data": {
      "text/plain": [
       "(300000, 19)"
      ]
     },
     "execution_count": 3,
     "metadata": {},
     "output_type": "execute_result"
    }
   ],
   "source": [
    "display(data.head(3))\n",
    "data.shape"
   ]
  },
  {
   "cell_type": "code",
   "execution_count": 4,
   "id": "37c46c94-a06d-4f35-94b5-e61be8107148",
   "metadata": {
    "execution": {
     "iopub.execute_input": "2024-12-14T18:34:28.799523Z",
     "iopub.status.busy": "2024-12-14T18:34:28.798617Z",
     "iopub.status.idle": "2024-12-14T18:34:29.369951Z",
     "shell.execute_reply": "2024-12-14T18:34:29.369153Z",
     "shell.execute_reply.started": "2024-12-14T18:34:28.799486Z"
    },
    "tags": []
   },
   "outputs": [
    {
     "name": "stdout",
     "output_type": "stream",
     "text": [
      "<class 'pandas.core.frame.DataFrame'>\n",
      "Int64Index: 300000 entries, 0 to 299999\n",
      "Data columns (total 19 columns):\n",
      " #   Column             Non-Null Count   Dtype  \n",
      "---  ------             --------------   -----  \n",
      " 0   user_id            300000 non-null  object \n",
      " 1   gym_id             300000 non-null  object \n",
      " 2   checkin_time       300000 non-null  object \n",
      " 3   checkout_time      300000 non-null  object \n",
      " 4   workout_type       300000 non-null  object \n",
      " 5   calories_burned    300000 non-null  int64  \n",
      " 6   location           300000 non-null  object \n",
      " 7   gym_type           300000 non-null  object \n",
      " 8   facilities         300000 non-null  object \n",
      " 9   first_name         300000 non-null  object \n",
      " 10  last_name          300000 non-null  object \n",
      " 11  age                300000 non-null  int64  \n",
      " 12  gender             300000 non-null  object \n",
      " 13  birthdate          300000 non-null  object \n",
      " 14  sign_up_date       300000 non-null  object \n",
      " 15  user_location      300000 non-null  object \n",
      " 16  subscription_plan  300000 non-null  object \n",
      " 17  price_per_month    300000 non-null  float64\n",
      " 18  features           300000 non-null  object \n",
      "dtypes: float64(1), int64(2), object(16)\n",
      "memory usage: 45.8+ MB\n"
     ]
    }
   ],
   "source": [
    "data.info()"
   ]
  },
  {
   "cell_type": "code",
   "execution_count": 5,
   "id": "e666a9c3-4b32-4fd2-b8e2-b3a226a0ad1f",
   "metadata": {
    "execution": {
     "iopub.execute_input": "2024-12-14T18:34:29.372717Z",
     "iopub.status.busy": "2024-12-14T18:34:29.371735Z",
     "iopub.status.idle": "2024-12-14T18:34:29.649810Z",
     "shell.execute_reply": "2024-12-14T18:34:29.648997Z",
     "shell.execute_reply.started": "2024-12-14T18:34:29.372678Z"
    },
    "tags": []
   },
   "outputs": [
    {
     "data": {
      "text/plain": [
       "<Axes: ylabel='Frequency'>"
      ]
     },
     "execution_count": 5,
     "metadata": {},
     "output_type": "execute_result"
    },
    {
     "data": {
      "image/png": "[encoded data removed]",
      "text/plain": [
       "<Figure size 640x480 with 1 Axes>"
      ]
     },
     "metadata": {},
     "output_type": "display_data"
    }
   ],
   "source": [
    "data[\"calories_burned\"].plot(kind=\"hist\", bins=30)"
   ]
  },
  {
   "cell_type": "code",
   "execution_count": 6,
   "id": "5cccfbfe-0a7c-43a1-8965-1f80a9f58687",
   "metadata": {
    "execution": {
     "iopub.execute_input": "2024-12-14T18:34:29.652095Z",
     "iopub.status.busy": "2024-12-14T18:34:29.651045Z",
     "iopub.status.idle": "2024-12-14T18:34:30.263563Z",
     "shell.execute_reply": "2024-12-14T18:34:30.262678Z",
     "shell.execute_reply.started": "2024-12-14T18:34:29.652050Z"
    },
    "tags": []
   },
   "outputs": [
    {
     "data": {
      "text/plain": [
       "user_id              0\n",
       "gym_id               0\n",
       "checkin_time         0\n",
       "checkout_time        0\n",
       "workout_type         0\n",
       "calories_burned      0\n",
       "location             0\n",
       "gym_type             0\n",
       "facilities           0\n",
       "first_name           0\n",
       "last_name            0\n",
       "age                  0\n",
       "gender               0\n",
       "birthdate            0\n",
       "sign_up_date         0\n",
       "user_location        0\n",
       "subscription_plan    0\n",
       "price_per_month      0\n",
       "features             0\n",
       "dtype: int64"
      ]
     },
     "execution_count": 6,
     "metadata": {},
     "output_type": "execute_result"
    }
   ],
   "source": [
    "data.isna().sum(axis=0)"
   ]
  },
  {
   "cell_type": "code",
   "execution_count": 7,
   "id": "f6a1d89a-bc35-4025-b538-818dc760b828",
   "metadata": {
    "execution": {
     "iopub.execute_input": "2024-12-14T18:34:30.265934Z",
     "iopub.status.busy": "2024-12-14T18:34:30.265458Z",
     "iopub.status.idle": "2024-12-14T18:34:30.779458Z",
     "shell.execute_reply": "2024-12-14T18:34:30.778609Z",
     "shell.execute_reply.started": "2024-12-14T18:34:30.265895Z"
    },
    "tags": []
   },
   "outputs": [
    {
     "name": "stdout",
     "output_type": "stream",
     "text": [
      "user_id\n",
      "5000\n",
      "------------------------------\n",
      "gym_id\n",
      "10\n",
      "------------------------------\n",
      "checkin_time\n",
      "177713\n",
      "------------------------------\n",
      "checkout_time\n",
      "183354\n",
      "------------------------------\n",
      "workout_type\n",
      "6\n",
      "------------------------------\n",
      "calories_burned\n",
      "1996\n",
      "------------------------------\n",
      "location\n",
      "10\n",
      "------------------------------\n",
      "gym_type\n",
      "3\n",
      "------------------------------\n",
      "facilities\n",
      "10\n",
      "------------------------------\n",
      "first_name\n",
      "12\n",
      "------------------------------\n",
      "last_name\n",
      "12\n",
      "------------------------------\n",
      "age\n",
      "47\n",
      "------------------------------\n",
      "gender\n",
      "3\n",
      "------------------------------\n",
      "birthdate\n",
      "4363\n",
      "------------------------------\n",
      "sign_up_date\n",
      "1013\n",
      "------------------------------\n",
      "user_location\n",
      "10\n",
      "------------------------------\n",
      "subscription_plan\n",
      "3\n",
      "------------------------------\n",
      "price_per_month\n",
      "3\n",
      "------------------------------\n",
      "features\n",
      "3\n",
      "------------------------------\n"
     ]
    }
   ],
   "source": [
    "for column in data.columns:\n",
    "    print(column)\n",
    "    print(data[column].nunique())\n",
    "    print(\"------------------------------\")"
   ]
  },
  {
   "cell_type": "markdown",
   "id": "59abae6e-53ba-4788-9dac-1500cc0e69c8",
   "metadata": {},
   "source": [
    "# Define the function for boosting"
   ]
  },
  {
   "cell_type": "markdown",
   "id": "b4a0cec1-1f66-47f2-9b7f-479c8348ac82",
   "metadata": {},
   "source": [
    "# Новый вид после уточнения задачи на модификацию именно базового лагоритма бустинга (напр., XGBoost)"
   ]
  },
  {
   "cell_type": "code",
   "execution_count": 8,
   "id": "d507a28b-4b45-4723-aeb8-cb58f181cbcc",
   "metadata": {
    "execution": {
     "iopub.execute_input": "2024-12-14T18:34:30.780978Z",
     "iopub.status.busy": "2024-12-14T18:34:30.780355Z",
     "iopub.status.idle": "2024-12-14T18:34:30.827262Z",
     "shell.execute_reply": "2024-12-14T18:34:30.826428Z",
     "shell.execute_reply.started": "2024-12-14T18:34:30.780941Z"
    },
    "tags": []
   },
   "outputs": [],
   "source": [
    "data = data.iloc[:10000, :].copy()\n",
    "# data.iloc[:10000, :]['calories_burned'].plot(kind='hist', bins=30)"
   ]
  },
  {
   "cell_type": "code",
   "execution_count": 9,
   "id": "f0f6efb1-5a77-45c9-9dfb-18d7ec81c972",
   "metadata": {
    "execution": {
     "iopub.execute_input": "2024-12-14T18:34:30.830211Z",
     "iopub.status.busy": "2024-12-14T18:34:30.829470Z",
     "iopub.status.idle": "2024-12-14T18:34:30.872232Z",
     "shell.execute_reply": "2024-12-14T18:34:30.871397Z",
     "shell.execute_reply.started": "2024-12-14T18:34:30.830169Z"
    },
    "tags": []
   },
   "outputs": [],
   "source": [
    "class BoostingRegressorFocal:\n",
    "    def __init__(self, n_estimators=50, max_depth=3, learning_rate=0.1, gamma=2, early_stopping_rounds=5):\n",
    "        self.n_estimators = n_estimators\n",
    "        self.max_depth = max_depth\n",
    "        self.learning_rate = learning_rate\n",
    "        self.gamma = gamma\n",
    "        self.early_stopping_rounds = early_stopping_rounds\n",
    "        self.trees = []\n",
    "        self.best_iteration = 0\n",
    "        self.best_mape = float('inf')\n",
    "        self.best_loss = float('inf')\n",
    "        self.no_improve_count = 0\n",
    "\n",
    "    def grad(self, residuals):\n",
    "        abs_r = np.abs(residuals)\n",
    "        return (self.gamma * abs_r ** (self.gamma - 1) * np.sign(residuals) * np.log(abs_r + 1) +\n",
    "                (abs_r ** self.gamma) / (abs_r + 1))\n",
    "\n",
    "    def fit(self, X, y, X_val=None, y_val=None):\n",
    "        y_pred = np.zeros_like(y, dtype=np.float64)\n",
    "        val_errors = []\n",
    "\n",
    "        for t in range(self.n_estimators):\n",
    "            # Calculate residuals\n",
    "            residuals = y - y_pred\n",
    "\n",
    "            # Compute gradient\n",
    "            gradient = self.grad(residuals)\n",
    "\n",
    "            # Train a new tree\n",
    "            tree = DecisionTreeRegressor(max_depth=self.max_depth)\n",
    "            tree.fit(X, gradient)\n",
    "            self.trees.append(tree)\n",
    "\n",
    "            # Update predictions\n",
    "            y_pred += self.learning_rate * tree.predict(X)\n",
    "            \n",
    "            # Early stopping\n",
    "            if X_val is not None and y_val is not None:\n",
    "                y_val_pred = self.predict(X_val)\n",
    "                current_mape = mean_absolute_percentage_error(y_val, y_val_pred)\n",
    "                val_errors.append(current_mape)\n",
    "\n",
    "                print(f\"Iteration {t + 1}: Validation MAPE = {current_mape:.4f}\")\n",
    "\n",
    "                if current_mape < self.best_mape:\n",
    "                    self.best_mape = current_mape\n",
    "                    self.best_iteration = t + 1\n",
    "                    self.no_improve_count = 0\n",
    "                else:\n",
    "                    self.no_improve_count += 1\n",
    "\n",
    "                if self.no_improve_count >= self.early_stopping_rounds:\n",
    "                    print(f\"Early stopping at iteration {t + 1}. Best iteration: {self.best_iteration} with MAPE = {self.best_mape:.4f}\")\n",
    "                    break\n",
    "\n",
    "        return val_errors\n",
    "\n",
    "    def predict(self, X):\n",
    "        y_pred = np.zeros(X.shape[0], dtype=np.float64)\n",
    "        for tree in self.trees:\n",
    "            y_pred += self.learning_rate * tree.predict(X)\n",
    "        return y_pred"
   ]
  },
  {
   "cell_type": "code",
   "execution_count": 10,
   "id": "b634260d-93c7-4ab3-8682-8c0b22022573",
   "metadata": {
    "execution": {
     "iopub.execute_input": "2024-12-14T18:34:30.976697Z",
     "iopub.status.busy": "2024-12-14T18:34:30.975448Z",
     "iopub.status.idle": "2024-12-14T18:37:40.318223Z",
     "shell.execute_reply": "2024-12-14T18:37:40.317364Z",
     "shell.execute_reply.started": "2024-12-14T18:34:30.976652Z"
    },
    "tags": []
   },
   "outputs": [
    {
     "name": "stderr",
     "output_type": "stream",
     "text": [
      "/usr/local/lib/python3.10/dist-packages/sklearn/preprocessing/_encoders.py:202: UserWarning: Found unknown categories in columns [2, 3] during transform. These unknown categories will be encoded as all zeros\n",
      "  warnings.warn(\n",
      "/usr/local/lib/python3.10/dist-packages/sklearn/preprocessing/_encoders.py:202: UserWarning: Found unknown categories in columns [2, 3] during transform. These unknown categories will be encoded as all zeros\n",
      "  warnings.warn(\n"
     ]
    },
    {
     "name": "stdout",
     "output_type": "stream",
     "text": [
      "Iteration 1: Validation MAPE = 0.9757\n",
      "Iteration 2: Validation MAPE = 0.9518\n",
      "Iteration 3: Validation MAPE = 0.9281\n",
      "Iteration 4: Validation MAPE = 0.9048\n",
      "Iteration 5: Validation MAPE = 0.8817\n",
      "Iteration 6: Validation MAPE = 0.8590\n",
      "Iteration 7: Validation MAPE = 0.8366\n",
      "Iteration 8: Validation MAPE = 0.8145\n",
      "Iteration 9: Validation MAPE = 0.7927\n",
      "Iteration 10: Validation MAPE = 0.7713\n",
      "Iteration 11: Validation MAPE = 0.7501\n",
      "Iteration 12: Validation MAPE = 0.7295\n",
      "Iteration 13: Validation MAPE = 0.7095\n",
      "Iteration 14: Validation MAPE = 0.6903\n",
      "Iteration 15: Validation MAPE = 0.6718\n",
      "Iteration 16: Validation MAPE = 0.6542\n",
      "Iteration 17: Validation MAPE = 0.6375\n",
      "Iteration 18: Validation MAPE = 0.6218\n",
      "Iteration 19: Validation MAPE = 0.6072\n",
      "Iteration 20: Validation MAPE = 0.5937\n",
      "Iteration 21: Validation MAPE = 0.5812\n",
      "Iteration 22: Validation MAPE = 0.5695\n",
      "Iteration 23: Validation MAPE = 0.5588\n",
      "Iteration 24: Validation MAPE = 0.5488\n",
      "Iteration 25: Validation MAPE = 0.5395\n",
      "Iteration 26: Validation MAPE = 0.5310\n",
      "Iteration 27: Validation MAPE = 0.5231\n",
      "Iteration 28: Validation MAPE = 0.5160\n",
      "Iteration 29: Validation MAPE = 0.5094\n",
      "Iteration 30: Validation MAPE = 0.5034\n",
      "Iteration 31: Validation MAPE = 0.4980\n",
      "Iteration 32: Validation MAPE = 0.4931\n",
      "Iteration 33: Validation MAPE = 0.4886\n",
      "Iteration 34: Validation MAPE = 0.4845\n",
      "Iteration 35: Validation MAPE = 0.4808\n",
      "Iteration 36: Validation MAPE = 0.4773\n",
      "Iteration 37: Validation MAPE = 0.4742\n",
      "Iteration 38: Validation MAPE = 0.4715\n",
      "Iteration 39: Validation MAPE = 0.4691\n",
      "Iteration 40: Validation MAPE = 0.4670\n",
      "Iteration 41: Validation MAPE = 0.4651\n",
      "Iteration 42: Validation MAPE = 0.4635\n",
      "Iteration 43: Validation MAPE = 0.4622\n",
      "Iteration 44: Validation MAPE = 0.4611\n",
      "Iteration 45: Validation MAPE = 0.4602\n",
      "Iteration 46: Validation MAPE = 0.4595\n",
      "Iteration 47: Validation MAPE = 0.4590\n",
      "Iteration 48: Validation MAPE = 0.4586\n",
      "Iteration 49: Validation MAPE = 0.4584\n",
      "Iteration 50: Validation MAPE = 0.4583\n",
      "Iteration 51: Validation MAPE = 0.4584\n",
      "Iteration 52: Validation MAPE = 0.4586\n",
      "Iteration 53: Validation MAPE = 0.4590\n",
      "Iteration 54: Validation MAPE = 0.4594\n",
      "Iteration 55: Validation MAPE = 0.4600\n",
      "Early stopping at iteration 55. Best iteration: 50 with MAPE = 0.4583\n",
      "Final Test MAPE: 0.4608329559426726\n"
     ]
    },
    {
     "data": {
      "image/png": "[encoded data removed]",
      "text/plain": [
       "<Figure size 1000x600 with 1 Axes>"
      ]
     },
     "metadata": {},
     "output_type": "display_data"
    },
    {
     "name": "stdout",
     "output_type": "stream",
     "text": [
      "Total execution time: 3.16 minutes\n"
     ]
    }
   ],
   "source": [
    "# Засекаем время выполнения\n",
    "start_time = time.time()\n",
    "\n",
    "X = data.drop(columns='calories_burned')\n",
    "y = data['calories_burned']\n",
    "\n",
    "# Разделение на тренировочную и тестовую выборки\n",
    "categorical_cols = X.select_dtypes(include=['object']).columns.tolist()\n",
    "numerical_cols = X.select_dtypes(include=['int64', 'float64']).columns.tolist()\n",
    "\n",
    "X_train, X_test, y_train, y_test = train_test_split(X, y, test_size=0.2, random_state=42)\n",
    "\n",
    "# Разделяем тренировочную выборку на обучение и валидацию\n",
    "X_train_inner, X_val, y_train_inner, y_val = train_test_split(X_train, y_train, test_size=0.2, random_state=42)\n",
    "\n",
    "# Преобразование данных\n",
    "preprocessor = ColumnTransformer(\n",
    "    transformers=[\n",
    "        ('cat', OneHotEncoder(drop='first', sparse_output=False, handle_unknown='ignore'), categorical_cols),\n",
    "        ('num', StandardScaler(), numerical_cols)\n",
    "    ],\n",
    "    remainder='passthrough'\n",
    ")\n",
    "\n",
    "pipeline = Pipeline(steps=[\n",
    "    ('preprocessor', preprocessor),\n",
    "    ('model', BoostingRegressorFocal(n_estimators=300, max_depth=3, learning_rate=0.05, gamma=1.5, early_stopping_rounds=5))\n",
    "])\n",
    "\n",
    "# Обучение модели\n",
    "model = pipeline.named_steps['model']\n",
    "X_train_transformed = pipeline.named_steps['preprocessor'].fit_transform(X_train_inner)\n",
    "X_val_transformed = pipeline.named_steps['preprocessor'].transform(X_val)\n",
    "X_test_transformed = pipeline.named_steps['preprocessor'].transform(X_test)\n",
    "\n",
    "val_errors = model.fit(X_train_transformed, y_train_inner, X_val_transformed, y_val)\n",
    "\n",
    "# Прогнозы и оценка\n",
    "y_pred = model.predict(X_test_transformed)\n",
    "test_mape = mean_absolute_percentage_error(y_test, y_pred)\n",
    "\n",
    "print(\"Final Test MAPE:\", test_mape)\n",
    "\n",
    "# График валидационной ошибки\n",
    "plt.figure(figsize=(10, 6))\n",
    "plt.plot(range(1, len(val_errors) + 1), val_errors, marker='o', label=\"Validation MAPE\")\n",
    "plt.axvline(model.best_iteration, color='r', linestyle='--', label=f'Best Iteration = {model.best_iteration}')\n",
    "plt.title(\"Validation MAPE by Iteration\")\n",
    "plt.xlabel(\"Iteration\")\n",
    "plt.ylabel(\"MAPE\")\n",
    "plt.legend()\n",
    "plt.grid()\n",
    "plt.show()\n",
    "\n",
    "# Вывод времени выполнения\n",
    "end_time = time.time()\n",
    "elapsed_time = (end_time - start_time)/60\n",
    "print(f\"Total execution time: {elapsed_time:.2f} minutes\")"
   ]
  },
  {
   "cell_type": "markdown",
   "id": "d32e4761-6cb9-4897-a65b-b31f8d3c338a",
   "metadata": {},
   "source": [
    "# XGBoost"
   ]
  },
  {
   "cell_type": "code",
   "execution_count": 11,
   "id": "2a5d64a4-d63e-4352-a265-73108fafec42",
   "metadata": {
    "execution": {
     "iopub.execute_input": "2024-12-14T18:37:40.321056Z",
     "iopub.status.busy": "2024-12-14T18:37:40.319684Z",
     "iopub.status.idle": "2024-12-14T18:55:05.890150Z",
     "shell.execute_reply": "2024-12-14T18:55:05.889129Z",
     "shell.execute_reply.started": "2024-12-14T18:37:40.321015Z"
    },
    "tags": []
   },
   "outputs": [
    {
     "name": "stderr",
     "output_type": "stream",
     "text": [
      "/usr/local/lib/python3.10/dist-packages/sklearn/preprocessing/_encoders.py:202: UserWarning: Found unknown categories in columns [2, 3] during transform. These unknown categories will be encoded as all zeros\n",
      "  warnings.warn(\n"
     ]
    },
    {
     "name": "stdout",
     "output_type": "stream",
     "text": [
      "Final Test MAPE: 0.5740862343362486\n",
      "Total execution time: 17.43 minutes\n"
     ]
    }
   ],
   "source": [
    "start_time = time.time()\n",
    "\n",
    "pipeline = Pipeline(steps=[\n",
    "    ('preprocessor', preprocessor),\n",
    "    ('model', XGBRegressor(n_estimators=500, n_jobs=-1))\n",
    "])\n",
    "pipeline.fit(X_train, y_train)\n",
    "y_pred = pipeline.predict(X_test)\n",
    "test_mape = mean_absolute_percentage_error(y_test, y_pred)\n",
    "print(\"Final Test MAPE:\", test_mape)\n",
    "\n",
    "end_time = time.time()\n",
    "elapsed_time = (end_time - start_time)/60\n",
    "print(f\"Total execution time: {elapsed_time:.2f} minutes\")"
   ]
  }
 ],
 "metadata": {
  "kernelspec": {
   "display_name": "DataSphere Kernel",
   "language": "python",
   "name": "python3"
  },
  "language_info": {
   "codemirror_mode": {
    "name": "ipython",
    "version": 3
   },
   "file_extension": ".py",
   "mimetype": "text/x-python",
   "name": "python",
   "nbconvert_exporter": "python",
   "pygments_lexer": "ipython3",
   "version": "3.10.12"
  }
 },
 "nbformat": 4,
 "nbformat_minor": 5
}
