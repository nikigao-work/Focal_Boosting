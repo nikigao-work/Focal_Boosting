{
 "cells": [
  {
   "cell_type": "code",
   "execution_count": 17,
   "id": "fdfbc028-7221-434c-9f33-f0aafbc16c48",
   "metadata": {
    "execution": {
     "iopub.execute_input": "2024-12-17T19:42:20.367236Z",
     "iopub.status.busy": "2024-12-17T19:42:20.365803Z",
     "iopub.status.idle": "2024-12-17T19:42:20.399786Z",
     "shell.execute_reply": "2024-12-17T19:42:20.398926Z",
     "shell.execute_reply.started": "2024-12-17T19:42:20.367167Z"
    },
    "tags": []
   },
   "outputs": [],
   "source": [
    "import matplotlib.pyplot as plt\n",
    "import numpy as np\n",
    "import pandas as pd\n",
    "from sklearn.compose import ColumnTransformer\n",
    "from sklearn.ensemble import RandomForestRegressor, GradientBoostingRegressor, StackingRegressor\n",
    "from sklearn.linear_model import LinearRegression\n",
    "from sklearn.mixture import GaussianMixture\n",
    "from sklearn.model_selection import train_test_split, KFold\n",
    "from sklearn.pipeline import Pipeline\n",
    "from sklearn.preprocessing import OneHotEncoder, StandardScaler\n",
    "from statsmodels.regression.mixed_linear_model import MixedLM\n",
    "from sklearn.tree import DecisionTreeClassifier\n",
    "from sklearn.metrics import accuracy_score\n",
    "\n",
    "import time"
   ]
  },
  {
   "cell_type": "markdown",
   "id": "ceaf5869-33f7-4e0a-a419-8223150dc02c",
   "metadata": {},
   "source": [
    "# Downloading the dataset for trainee"
   ]
  },
  {
   "cell_type": "code",
   "execution_count": 18,
   "id": "fb93937c-5a1f-4880-b344-ece7b436fac6",
   "metadata": {
    "execution": {
     "iopub.execute_input": "2024-12-17T19:42:23.356658Z",
     "iopub.status.busy": "2024-12-17T19:42:23.355464Z",
     "iopub.status.idle": "2024-12-17T19:42:24.149526Z",
     "shell.execute_reply": "2024-12-17T19:42:24.148640Z",
     "shell.execute_reply.started": "2024-12-17T19:42:23.356608Z"
    },
    "tags": []
   },
   "outputs": [
    {
     "data": {
      "text/html": [
       "<div>\n",
       "<style scoped>\n",
       "    .dataframe tbody tr th:only-of-type {\n",
       "        vertical-align: middle;\n",
       "    }\n",
       "\n",
       "    .dataframe tbody tr th {\n",
       "        vertical-align: top;\n",
       "    }\n",
       "\n",
       "    .dataframe thead th {\n",
       "        text-align: right;\n",
       "    }\n",
       "</style>\n",
       "<table border=\"1\" class=\"dataframe\">\n",
       "  <thead>\n",
       "    <tr style=\"text-align: right;\">\n",
       "      <th></th>\n",
       "      <th>user_id</th>\n",
       "      <th>gym_id</th>\n",
       "      <th>checkin_time</th>\n",
       "      <th>checkout_time</th>\n",
       "      <th>workout_type</th>\n",
       "      <th>calories_burned</th>\n",
       "    </tr>\n",
       "  </thead>\n",
       "  <tbody>\n",
       "    <tr>\n",
       "      <th>0</th>\n",
       "      <td>user_3291</td>\n",
       "      <td>gym_6</td>\n",
       "      <td>2023-09-10 15:55:00</td>\n",
       "      <td>2023-09-10 16:34:00</td>\n",
       "      <td>Weightlifting</td>\n",
       "      <td>462</td>\n",
       "    </tr>\n",
       "    <tr>\n",
       "      <th>1</th>\n",
       "      <td>user_1944</td>\n",
       "      <td>gym_2</td>\n",
       "      <td>2023-04-13 20:07:00</td>\n",
       "      <td>2023-04-13 22:43:00</td>\n",
       "      <td>Yoga</td>\n",
       "      <td>1278</td>\n",
       "    </tr>\n",
       "    <tr>\n",
       "      <th>2</th>\n",
       "      <td>user_958</td>\n",
       "      <td>gym_7</td>\n",
       "      <td>2023-06-10 12:24:00</td>\n",
       "      <td>2023-06-10 13:49:00</td>\n",
       "      <td>Cardio</td>\n",
       "      <td>858</td>\n",
       "    </tr>\n",
       "  </tbody>\n",
       "</table>\n",
       "</div>"
      ],
      "text/plain": [
       "     user_id gym_id  ...   workout_type calories_burned\n",
       "0  user_3291  gym_6  ...  Weightlifting             462\n",
       "1  user_1944  gym_2  ...           Yoga            1278\n",
       "2   user_958  gym_7  ...         Cardio             858\n",
       "\n",
       "[3 rows x 6 columns]"
      ]
     },
     "metadata": {},
     "output_type": "display_data"
    },
    {
     "data": {
      "text/html": [
       "<div>\n",
       "<style scoped>\n",
       "    .dataframe tbody tr th:only-of-type {\n",
       "        vertical-align: middle;\n",
       "    }\n",
       "\n",
       "    .dataframe tbody tr th {\n",
       "        vertical-align: top;\n",
       "    }\n",
       "\n",
       "    .dataframe thead th {\n",
       "        text-align: right;\n",
       "    }\n",
       "</style>\n",
       "<table border=\"1\" class=\"dataframe\">\n",
       "  <thead>\n",
       "    <tr style=\"text-align: right;\">\n",
       "      <th></th>\n",
       "      <th>gym_id</th>\n",
       "      <th>location</th>\n",
       "      <th>gym_type</th>\n",
       "      <th>facilities</th>\n",
       "    </tr>\n",
       "  </thead>\n",
       "  <tbody>\n",
       "    <tr>\n",
       "      <th>0</th>\n",
       "      <td>gym_1</td>\n",
       "      <td>New York</td>\n",
       "      <td>Premium</td>\n",
       "      <td>Climbing Wall, Swimming Pool, Basketball Court</td>\n",
       "    </tr>\n",
       "    <tr>\n",
       "      <th>1</th>\n",
       "      <td>gym_2</td>\n",
       "      <td>Los Angeles</td>\n",
       "      <td>Budget</td>\n",
       "      <td>Climbing Wall, Yoga Classes, Sauna</td>\n",
       "    </tr>\n",
       "    <tr>\n",
       "      <th>2</th>\n",
       "      <td>gym_3</td>\n",
       "      <td>Chicago</td>\n",
       "      <td>Budget</td>\n",
       "      <td>Sauna, Climbing Wall, Swimming Pool</td>\n",
       "    </tr>\n",
       "  </tbody>\n",
       "</table>\n",
       "</div>"
      ],
      "text/plain": [
       "  gym_id     location gym_type                                      facilities\n",
       "0  gym_1     New York  Premium  Climbing Wall, Swimming Pool, Basketball Court\n",
       "1  gym_2  Los Angeles   Budget              Climbing Wall, Yoga Classes, Sauna\n",
       "2  gym_3      Chicago   Budget             Sauna, Climbing Wall, Swimming Pool"
      ]
     },
     "metadata": {},
     "output_type": "display_data"
    },
    {
     "data": {
      "text/html": [
       "<div>\n",
       "<style scoped>\n",
       "    .dataframe tbody tr th:only-of-type {\n",
       "        vertical-align: middle;\n",
       "    }\n",
       "\n",
       "    .dataframe tbody tr th {\n",
       "        vertical-align: top;\n",
       "    }\n",
       "\n",
       "    .dataframe thead th {\n",
       "        text-align: right;\n",
       "    }\n",
       "</style>\n",
       "<table border=\"1\" class=\"dataframe\">\n",
       "  <thead>\n",
       "    <tr style=\"text-align: right;\">\n",
       "      <th></th>\n",
       "      <th>subscription_plan</th>\n",
       "      <th>price_per_month</th>\n",
       "      <th>features</th>\n",
       "    </tr>\n",
       "  </thead>\n",
       "  <tbody>\n",
       "    <tr>\n",
       "      <th>0</th>\n",
       "      <td>Basic</td>\n",
       "      <td>19.99</td>\n",
       "      <td>Access to basic gym facilities, Limited class ...</td>\n",
       "    </tr>\n",
       "    <tr>\n",
       "      <th>1</th>\n",
       "      <td>Pro</td>\n",
       "      <td>49.99</td>\n",
       "      <td>Access to all facilities, Unlimited class acce...</td>\n",
       "    </tr>\n",
       "    <tr>\n",
       "      <th>2</th>\n",
       "      <td>Student</td>\n",
       "      <td>9.99</td>\n",
       "      <td>Access to basic facilities, Limited class acce...</td>\n",
       "    </tr>\n",
       "  </tbody>\n",
       "</table>\n",
       "</div>"
      ],
      "text/plain": [
       "  subscription_plan  ...                                           features\n",
       "0             Basic  ...  Access to basic gym facilities, Limited class ...\n",
       "1               Pro  ...  Access to all facilities, Unlimited class acce...\n",
       "2           Student  ...  Access to basic facilities, Limited class acce...\n",
       "\n",
       "[3 rows x 3 columns]"
      ]
     },
     "metadata": {},
     "output_type": "display_data"
    },
    {
     "data": {
      "text/html": [
       "<div>\n",
       "<style scoped>\n",
       "    .dataframe tbody tr th:only-of-type {\n",
       "        vertical-align: middle;\n",
       "    }\n",
       "\n",
       "    .dataframe tbody tr th {\n",
       "        vertical-align: top;\n",
       "    }\n",
       "\n",
       "    .dataframe thead th {\n",
       "        text-align: right;\n",
       "    }\n",
       "</style>\n",
       "<table border=\"1\" class=\"dataframe\">\n",
       "  <thead>\n",
       "    <tr style=\"text-align: right;\">\n",
       "      <th></th>\n",
       "      <th>user_id</th>\n",
       "      <th>first_name</th>\n",
       "      <th>last_name</th>\n",
       "      <th>age</th>\n",
       "      <th>gender</th>\n",
       "      <th>birthdate</th>\n",
       "      <th>sign_up_date</th>\n",
       "      <th>user_location</th>\n",
       "      <th>subscription_plan</th>\n",
       "    </tr>\n",
       "  </thead>\n",
       "  <tbody>\n",
       "    <tr>\n",
       "      <th>0</th>\n",
       "      <td>user_1</td>\n",
       "      <td>Chris</td>\n",
       "      <td>Wilson</td>\n",
       "      <td>56</td>\n",
       "      <td>Female</td>\n",
       "      <td>2000-02-29</td>\n",
       "      <td>2023-02-06</td>\n",
       "      <td>Denver</td>\n",
       "      <td>Basic</td>\n",
       "    </tr>\n",
       "    <tr>\n",
       "      <th>1</th>\n",
       "      <td>user_2</td>\n",
       "      <td>Michael</td>\n",
       "      <td>Miller</td>\n",
       "      <td>46</td>\n",
       "      <td>Non-binary</td>\n",
       "      <td>1978-12-22</td>\n",
       "      <td>2023-08-08</td>\n",
       "      <td>Orlando</td>\n",
       "      <td>Pro</td>\n",
       "    </tr>\n",
       "    <tr>\n",
       "      <th>2</th>\n",
       "      <td>user_3</td>\n",
       "      <td>Daniel</td>\n",
       "      <td>Smith</td>\n",
       "      <td>32</td>\n",
       "      <td>Female</td>\n",
       "      <td>1962-08-30</td>\n",
       "      <td>2021-01-11</td>\n",
       "      <td>Orlando</td>\n",
       "      <td>Basic</td>\n",
       "    </tr>\n",
       "  </tbody>\n",
       "</table>\n",
       "</div>"
      ],
      "text/plain": [
       "  user_id first_name last_name  ...  sign_up_date user_location subscription_plan\n",
       "0  user_1      Chris    Wilson  ...    2023-02-06        Denver             Basic\n",
       "1  user_2    Michael    Miller  ...    2023-08-08       Orlando               Pro\n",
       "2  user_3     Daniel     Smith  ...    2021-01-11       Orlando             Basic\n",
       "\n",
       "[3 rows x 9 columns]"
      ]
     },
     "metadata": {},
     "output_type": "display_data"
    }
   ],
   "source": [
    "df_1 = pd.read_csv(\"checkin_checkout_history_updated.csv\")\n",
    "display(df_1.head(3))\n",
    "df_2 = pd.read_csv(\"gym_locations_data.csv\")\n",
    "display(df_2.head(3))\n",
    "df_3 = pd.read_csv(\"subscription_plans.csv\")\n",
    "display(df_3.head(3))\n",
    "df_4 = pd.read_csv(\"users_data.csv\")\n",
    "display(df_4.head(3))\n",
    "table_1 = df_1.merge(df_2, right_on=\"gym_id\", left_on=\"gym_id\")\n",
    "table_2 = df_4.merge(df_3, right_on=\"subscription_plan\", left_on=\"subscription_plan\")\n",
    "data = table_1.merge(table_2, right_on=\"user_id\", left_on=\"user_id\")"
   ]
  },
  {
   "cell_type": "code",
   "execution_count": 19,
   "id": "75806c23-2406-46bc-a09b-77b68f2d7a18",
   "metadata": {
    "execution": {
     "iopub.execute_input": "2024-12-17T19:42:24.152341Z",
     "iopub.status.busy": "2024-12-17T19:42:24.151094Z",
     "iopub.status.idle": "2024-12-17T19:42:24.200297Z",
     "shell.execute_reply": "2024-12-17T19:42:24.199440Z",
     "shell.execute_reply.started": "2024-12-17T19:42:24.152303Z"
    },
    "tags": []
   },
   "outputs": [
    {
     "data": {
      "text/html": [
       "<div>\n",
       "<style scoped>\n",
       "    .dataframe tbody tr th:only-of-type {\n",
       "        vertical-align: middle;\n",
       "    }\n",
       "\n",
       "    .dataframe tbody tr th {\n",
       "        vertical-align: top;\n",
       "    }\n",
       "\n",
       "    .dataframe thead th {\n",
       "        text-align: right;\n",
       "    }\n",
       "</style>\n",
       "<table border=\"1\" class=\"dataframe\">\n",
       "  <thead>\n",
       "    <tr style=\"text-align: right;\">\n",
       "      <th></th>\n",
       "      <th>user_id</th>\n",
       "      <th>gym_id</th>\n",
       "      <th>checkin_time</th>\n",
       "      <th>checkout_time</th>\n",
       "      <th>workout_type</th>\n",
       "      <th>calories_burned</th>\n",
       "      <th>location</th>\n",
       "      <th>gym_type</th>\n",
       "      <th>facilities</th>\n",
       "      <th>first_name</th>\n",
       "      <th>last_name</th>\n",
       "      <th>age</th>\n",
       "      <th>gender</th>\n",
       "      <th>birthdate</th>\n",
       "      <th>sign_up_date</th>\n",
       "      <th>user_location</th>\n",
       "      <th>subscription_plan</th>\n",
       "      <th>price_per_month</th>\n",
       "      <th>features</th>\n",
       "    </tr>\n",
       "  </thead>\n",
       "  <tbody>\n",
       "    <tr>\n",
       "      <th>0</th>\n",
       "      <td>user_3291</td>\n",
       "      <td>gym_6</td>\n",
       "      <td>2023-09-10 15:55:00</td>\n",
       "      <td>2023-09-10 16:34:00</td>\n",
       "      <td>Weightlifting</td>\n",
       "      <td>462</td>\n",
       "      <td>Philadelphia</td>\n",
       "      <td>Budget</td>\n",
       "      <td>Swimming Pool, Climbing Wall, Sauna</td>\n",
       "      <td>Michael</td>\n",
       "      <td>Rodriguez</td>\n",
       "      <td>41</td>\n",
       "      <td>Female</td>\n",
       "      <td>1998-03-10</td>\n",
       "      <td>2023-04-08</td>\n",
       "      <td>Atlanta</td>\n",
       "      <td>Pro</td>\n",
       "      <td>49.99</td>\n",
       "      <td>Access to all facilities, Unlimited class acce...</td>\n",
       "    </tr>\n",
       "    <tr>\n",
       "      <th>1</th>\n",
       "      <td>user_3291</td>\n",
       "      <td>gym_6</td>\n",
       "      <td>2023-09-09 08:12:00</td>\n",
       "      <td>2023-09-09 09:55:00</td>\n",
       "      <td>Weightlifting</td>\n",
       "      <td>850</td>\n",
       "      <td>Philadelphia</td>\n",
       "      <td>Budget</td>\n",
       "      <td>Swimming Pool, Climbing Wall, Sauna</td>\n",
       "      <td>Michael</td>\n",
       "      <td>Rodriguez</td>\n",
       "      <td>41</td>\n",
       "      <td>Female</td>\n",
       "      <td>1998-03-10</td>\n",
       "      <td>2023-04-08</td>\n",
       "      <td>Atlanta</td>\n",
       "      <td>Pro</td>\n",
       "      <td>49.99</td>\n",
       "      <td>Access to all facilities, Unlimited class acce...</td>\n",
       "    </tr>\n",
       "    <tr>\n",
       "      <th>2</th>\n",
       "      <td>user_3291</td>\n",
       "      <td>gym_6</td>\n",
       "      <td>2023-07-23 19:58:00</td>\n",
       "      <td>2023-07-23 22:12:00</td>\n",
       "      <td>Cardio</td>\n",
       "      <td>1089</td>\n",
       "      <td>Philadelphia</td>\n",
       "      <td>Budget</td>\n",
       "      <td>Swimming Pool, Climbing Wall, Sauna</td>\n",
       "      <td>Michael</td>\n",
       "      <td>Rodriguez</td>\n",
       "      <td>41</td>\n",
       "      <td>Female</td>\n",
       "      <td>1998-03-10</td>\n",
       "      <td>2023-04-08</td>\n",
       "      <td>Atlanta</td>\n",
       "      <td>Pro</td>\n",
       "      <td>49.99</td>\n",
       "      <td>Access to all facilities, Unlimited class acce...</td>\n",
       "    </tr>\n",
       "  </tbody>\n",
       "</table>\n",
       "</div>"
      ],
      "text/plain": [
       "     user_id  ...                                           features\n",
       "0  user_3291  ...  Access to all facilities, Unlimited class acce...\n",
       "1  user_3291  ...  Access to all facilities, Unlimited class acce...\n",
       "2  user_3291  ...  Access to all facilities, Unlimited class acce...\n",
       "\n",
       "[3 rows x 19 columns]"
      ]
     },
     "metadata": {},
     "output_type": "display_data"
    },
    {
     "data": {
      "text/plain": [
       "(300000, 19)"
      ]
     },
     "execution_count": 19,
     "metadata": {},
     "output_type": "execute_result"
    }
   ],
   "source": [
    "display(data.head(3))\n",
    "data.shape"
   ]
  },
  {
   "cell_type": "code",
   "execution_count": 20,
   "id": "37c46c94-a06d-4f35-94b5-e61be8107148",
   "metadata": {
    "execution": {
     "iopub.execute_input": "2024-12-17T19:42:24.202135Z",
     "iopub.status.busy": "2024-12-17T19:42:24.201388Z",
     "iopub.status.idle": "2024-12-17T19:42:24.800873Z",
     "shell.execute_reply": "2024-12-17T19:42:24.799987Z",
     "shell.execute_reply.started": "2024-12-17T19:42:24.202082Z"
    },
    "tags": []
   },
   "outputs": [
    {
     "name": "stdout",
     "output_type": "stream",
     "text": [
      "<class 'pandas.core.frame.DataFrame'>\n",
      "Int64Index: 300000 entries, 0 to 299999\n",
      "Data columns (total 19 columns):\n",
      " #   Column             Non-Null Count   Dtype  \n",
      "---  ------             --------------   -----  \n",
      " 0   user_id            300000 non-null  object \n",
      " 1   gym_id             300000 non-null  object \n",
      " 2   checkin_time       300000 non-null  object \n",
      " 3   checkout_time      300000 non-null  object \n",
      " 4   workout_type       300000 non-null  object \n",
      " 5   calories_burned    300000 non-null  int64  \n",
      " 6   location           300000 non-null  object \n",
      " 7   gym_type           300000 non-null  object \n",
      " 8   facilities         300000 non-null  object \n",
      " 9   first_name         300000 non-null  object \n",
      " 10  last_name          300000 non-null  object \n",
      " 11  age                300000 non-null  int64  \n",
      " 12  gender             300000 non-null  object \n",
      " 13  birthdate          300000 non-null  object \n",
      " 14  sign_up_date       300000 non-null  object \n",
      " 15  user_location      300000 non-null  object \n",
      " 16  subscription_plan  300000 non-null  object \n",
      " 17  price_per_month    300000 non-null  float64\n",
      " 18  features           300000 non-null  object \n",
      "dtypes: float64(1), int64(2), object(16)\n",
      "memory usage: 45.8+ MB\n"
     ]
    }
   ],
   "source": [
    "data.info()"
   ]
  },
  {
   "cell_type": "code",
   "execution_count": 21,
   "id": "d507a28b-4b45-4723-aeb8-cb58f181cbcc",
   "metadata": {
    "execution": {
     "iopub.execute_input": "2024-12-17T19:42:24.803388Z",
     "iopub.status.busy": "2024-12-17T19:42:24.802896Z",
     "iopub.status.idle": "2024-12-17T19:42:24.872897Z",
     "shell.execute_reply": "2024-12-17T19:42:24.872042Z",
     "shell.execute_reply.started": "2024-12-17T19:42:24.803351Z"
    },
    "tags": []
   },
   "outputs": [],
   "source": [
    "data = data.iloc[:10000, :].copy()"
   ]
  },
  {
   "cell_type": "code",
   "execution_count": 22,
   "id": "b832607c-0033-47c7-ab79-0f2ead318168",
   "metadata": {
    "execution": {
     "iopub.execute_input": "2024-12-17T19:42:24.937606Z",
     "iopub.status.busy": "2024-12-17T19:42:24.936163Z",
     "iopub.status.idle": "2024-12-17T19:42:24.952619Z",
     "shell.execute_reply": "2024-12-17T19:42:24.951792Z",
     "shell.execute_reply.started": "2024-12-17T19:42:24.937560Z"
    },
    "tags": []
   },
   "outputs": [
    {
     "data": {
      "text/plain": [
       "gym_6     1161\n",
       "gym_3     1018\n",
       "gym_7     1005\n",
       "gym_9     1002\n",
       "gym_2      991\n",
       "gym_4      982\n",
       "gym_10     972\n",
       "gym_8      971\n",
       "gym_1      953\n",
       "gym_5      945\n",
       "Name: gym_id, dtype: int64"
      ]
     },
     "execution_count": 22,
     "metadata": {},
     "output_type": "execute_result"
    }
   ],
   "source": [
    "data['gym_id'].value_counts()"
   ]
  },
  {
   "cell_type": "code",
   "execution_count": 32,
   "id": "8568e15b-6a46-4be6-9c43-efe43a3458a8",
   "metadata": {
    "execution": {
     "iopub.execute_input": "2024-12-17T20:01:36.207694Z",
     "iopub.status.busy": "2024-12-17T20:01:36.207020Z",
     "iopub.status.idle": "2024-12-17T20:01:36.255205Z",
     "shell.execute_reply": "2024-12-17T20:01:36.253834Z",
     "shell.execute_reply.started": "2024-12-17T20:01:36.207658Z"
    }
   },
   "outputs": [
    {
     "ename": "NameError",
     "evalue": "name 'sns' is not defined",
     "output_type": "error",
     "traceback": [
      "\u001b[0;31m---------------------------------------------------------------------------\u001b[0m",
      "\u001b[0;31mNameError\u001b[0m                                 Traceback (most recent call last)",
      "\u001b[0;32m/tmp/ipykernel_3883/2724571552.py\u001b[0m in \u001b[0;36m<cell line: 4>\u001b[0;34m()\u001b[0m\n\u001b[1;32m      2\u001b[0m \u001b[0;34m\u001b[0m\u001b[0m\n\u001b[1;32m      3\u001b[0m \u001b[0mplt\u001b[0m\u001b[0;34m.\u001b[0m\u001b[0mfigure\u001b[0m\u001b[0;34m(\u001b[0m\u001b[0mfigsize\u001b[0m\u001b[0;34m=\u001b[0m\u001b[0;34m(\u001b[0m\u001b[0;36m10\u001b[0m\u001b[0;34m,\u001b[0m \u001b[0;36m6\u001b[0m\u001b[0;34m)\u001b[0m\u001b[0;34m)\u001b[0m\u001b[0;34m\u001b[0m\u001b[0;34m\u001b[0m\u001b[0m\n\u001b[0;32m----> 4\u001b[0;31m \u001b[0msns\u001b[0m\u001b[0;34m.\u001b[0m\u001b[0mbarplot\u001b[0m\u001b[0;34m(\u001b[0m\u001b[0mx\u001b[0m\u001b[0;34m=\u001b[0m\u001b[0mgym_counts\u001b[0m\u001b[0;34m.\u001b[0m\u001b[0mindex\u001b[0m\u001b[0;34m,\u001b[0m \u001b[0my\u001b[0m\u001b[0;34m=\u001b[0m\u001b[0mgym_counts\u001b[0m\u001b[0;34m.\u001b[0m\u001b[0mvalues\u001b[0m\u001b[0;34m,\u001b[0m \u001b[0mpalette\u001b[0m\u001b[0;34m=\u001b[0m\u001b[0;34m'viridis'\u001b[0m\u001b[0;34m)\u001b[0m\u001b[0;34m\u001b[0m\u001b[0;34m\u001b[0m\u001b[0m\n\u001b[0m\u001b[1;32m      5\u001b[0m \u001b[0;34m\u001b[0m\u001b[0m\n\u001b[1;32m      6\u001b[0m \u001b[0mplt\u001b[0m\u001b[0;34m.\u001b[0m\u001b[0mtitle\u001b[0m\u001b[0;34m(\u001b[0m\u001b[0;34m'Количество записей для каждого gym_id'\u001b[0m\u001b[0;34m,\u001b[0m \u001b[0mfontsize\u001b[0m\u001b[0;34m=\u001b[0m\u001b[0;36m16\u001b[0m\u001b[0;34m)\u001b[0m\u001b[0;34m\u001b[0m\u001b[0;34m\u001b[0m\u001b[0m\n",
      "\u001b[0;31mNameError\u001b[0m: name 'sns' is not defined"
     ]
    },
    {
     "data": {
      "text/plain": [
       "<Figure size 1000x600 with 0 Axes>"
      ]
     },
     "metadata": {},
     "output_type": "display_data"
    }
   ],
   "source": [
    "gym_counts = data['gym_id'].value_counts()\n",
    "\n",
    "plt.figure(figsize=(10, 6))\n",
    "sns.barplot(x=gym_counts.index, y=gym_counts.values, palette='viridis')\n",
    "\n",
    "plt.title('Количество записей для каждого gym_id', fontsize=16)\n",
    "plt.xlabel('Gym ID', fontsize=14)\n",
    "plt.ylabel('Количество', fontsize=14)\n",
    "plt.xticks(fontsize=12)\n",
    "plt.yticks(fontsize=12)\n",
    "\n",
    "plt.show()"
   ]
  },
  {
   "cell_type": "code",
   "execution_count": 23,
   "id": "5cccfbfe-0a7c-43a1-8965-1f80a9f58687",
   "metadata": {
    "execution": {
     "iopub.execute_input": "2024-12-17T19:42:25.599773Z",
     "iopub.status.busy": "2024-12-17T19:42:25.598494Z",
     "iopub.status.idle": "2024-12-17T19:42:25.714036Z",
     "shell.execute_reply": "2024-12-17T19:42:25.713194Z",
     "shell.execute_reply.started": "2024-12-17T19:42:25.599725Z"
    },
    "tags": []
   },
   "outputs": [
    {
     "data": {
      "text/plain": [
       "user_id              0\n",
       "gym_id               0\n",
       "checkin_time         0\n",
       "checkout_time        0\n",
       "workout_type         0\n",
       "calories_burned      0\n",
       "location             0\n",
       "gym_type             0\n",
       "facilities           0\n",
       "first_name           0\n",
       "last_name            0\n",
       "age                  0\n",
       "gender               0\n",
       "birthdate            0\n",
       "sign_up_date         0\n",
       "user_location        0\n",
       "subscription_plan    0\n",
       "price_per_month      0\n",
       "features             0\n",
       "dtype: int64"
      ]
     },
     "execution_count": 23,
     "metadata": {},
     "output_type": "execute_result"
    }
   ],
   "source": [
    "data.isna().sum(axis=0)"
   ]
  },
  {
   "cell_type": "code",
   "execution_count": 24,
   "id": "f6a1d89a-bc35-4025-b538-818dc760b828",
   "metadata": {
    "execution": {
     "iopub.execute_input": "2024-12-17T19:42:28.072770Z",
     "iopub.status.busy": "2024-12-17T19:42:28.071435Z",
     "iopub.status.idle": "2024-12-17T19:42:28.143013Z",
     "shell.execute_reply": "2024-12-17T19:42:28.142186Z",
     "shell.execute_reply.started": "2024-12-17T19:42:28.072724Z"
    },
    "tags": []
   },
   "outputs": [
    {
     "name": "stdout",
     "output_type": "stream",
     "text": [
      "user_id\n",
      "164\n",
      "------------------------------\n",
      "gym_id\n",
      "10\n",
      "------------------------------\n",
      "checkin_time\n",
      "9822\n",
      "------------------------------\n",
      "checkout_time\n",
      "9817\n",
      "------------------------------\n",
      "workout_type\n",
      "6\n",
      "------------------------------\n",
      "calories_burned\n",
      "1773\n",
      "------------------------------\n",
      "location\n",
      "10\n",
      "------------------------------\n",
      "gym_type\n",
      "3\n",
      "------------------------------\n",
      "facilities\n",
      "10\n",
      "------------------------------\n",
      "first_name\n",
      "12\n",
      "------------------------------\n",
      "last_name\n",
      "12\n",
      "------------------------------\n",
      "age\n",
      "47\n",
      "------------------------------\n",
      "gender\n",
      "3\n",
      "------------------------------\n",
      "birthdate\n",
      "162\n",
      "------------------------------\n",
      "sign_up_date\n",
      "153\n",
      "------------------------------\n",
      "user_location\n",
      "10\n",
      "------------------------------\n",
      "subscription_plan\n",
      "3\n",
      "------------------------------\n",
      "price_per_month\n",
      "3\n",
      "------------------------------\n",
      "features\n",
      "3\n",
      "------------------------------\n"
     ]
    }
   ],
   "source": [
    "for column in data.columns:\n",
    "    print(column)\n",
    "    print(data[column].nunique())\n",
    "    print(\"------------------------------\")"
   ]
  },
  {
   "cell_type": "code",
   "execution_count": 38,
   "id": "017dea05-4cf5-41d8-a746-d11d47489933",
   "metadata": {
    "execution": {
     "iopub.execute_input": "2024-12-17T20:09:26.457016Z",
     "iopub.status.busy": "2024-12-17T20:09:26.455729Z",
     "iopub.status.idle": "2024-12-17T20:09:26.492208Z",
     "shell.execute_reply": "2024-12-17T20:09:26.491283Z",
     "shell.execute_reply.started": "2024-12-17T20:09:26.456963Z"
    },
    "tags": []
   },
   "outputs": [],
   "source": [
    "class BoostingFocalLossClassifier:\n",
    "    def __init__(self, n_estimators=50, max_depth=10, learning_rate=0.1, gamma=2, early_stopping_rounds=5):\n",
    "        self.n_estimators = n_estimators\n",
    "        self.max_depth = max_depth\n",
    "        self.learning_rate = learning_rate\n",
    "        self.gamma = gamma\n",
    "        self.early_stopping_rounds = early_stopping_rounds\n",
    "        self.trees = []\n",
    "        self.best_iteration = 0\n",
    "        self.best_accuracy = 0.0\n",
    "        self.no_improve_count = 0\n",
    "\n",
    "    def fit(self, X, y, X_val=None, y_val=None):\n",
    "        n_samples, n_classes = X.shape[0], len(np.unique(y))\n",
    "        self.classes_ = np.unique(y)\n",
    "        y_pred = np.zeros((n_samples, n_classes), dtype=np.float64)  # Начальные предсказания в виде логитов\n",
    "        val_accuracies = []\n",
    "\n",
    "        for t in range(self.n_estimators):\n",
    "            # Преобразование y_pred в вероятности с помощью softmax\n",
    "            probs = np.exp(y_pred) / np.sum(np.exp(y_pred), axis=1, keepdims=True)\n",
    "            \n",
    "            # One-hot кодирование y\n",
    "            one_hot_y = np.eye(n_classes)[y]\n",
    "\n",
    "            # Вычисляем ошибки (residuals)\n",
    "            residuals = one_hot_y - probs\n",
    "\n",
    "            # Вычисление градиента с учетом фокального лосса\n",
    "            gradient = (self.gamma * residuals * (1 - probs) ** (self.gamma - 1)) * probs\n",
    "\n",
    "            # Используем градиент в качестве мишени для обучения\n",
    "            # Градиенты будем передавать как целевые значения для дерева\n",
    "            tree = DecisionTreeClassifier(max_depth=self.max_depth, max_features=\"sqrt\")\n",
    "            tree.fit(X, np.argmax(gradient, axis=1))  # Используем градиенты для обучения\n",
    "            self.trees.append(tree)\n",
    "\n",
    "            # Обновление предсказаний\n",
    "            y_pred += self.learning_rate * tree.predict_proba(X)\n",
    "\n",
    "            # Оценка на валидационной выборке\n",
    "            if X_val is not None and y_val is not None:\n",
    "                y_val_pred = self.predict(X_val)\n",
    "                current_accuracy = accuracy_score(y_val, y_val_pred)\n",
    "                val_accuracies.append(current_accuracy)\n",
    "\n",
    "                # print(f\"Iteration {t + 1}: Validation Accuracy = {current_accuracy:.4f}\")\n",
    "\n",
    "                if current_accuracy > self.best_accuracy:\n",
    "                    self.best_accuracy = current_accuracy\n",
    "                    self.best_iteration = t + 1\n",
    "                    self.no_improve_count = 0\n",
    "                else:\n",
    "                    self.no_improve_count += 1\n",
    "\n",
    "                if self.no_improve_count >= self.early_stopping_rounds:\n",
    "                    print(f\"Early stopping at iteration {t + 1}. Best iteration: {self.best_iteration} with Accuracy = {self.best_accuracy:.4f}\")\n",
    "                    break\n",
    "\n",
    "        return val_accuracies\n",
    "\n",
    "    def predict(self, X):\n",
    "        # Суммируем предсказания всех деревьев\n",
    "        y_pred = np.zeros((X.shape[0], len(self.classes_)), dtype=np.float64)\n",
    "        for tree in self.trees:\n",
    "            y_pred += self.learning_rate * tree.predict_proba(X)\n",
    "\n",
    "        # Преобразуем в вероятности и выбираем класс с максимальной вероятностью\n",
    "        return np.argmax(y_pred, axis=1)"
   ]
  },
  {
   "cell_type": "code",
   "execution_count": 39,
   "id": "a4259d27-9fb5-4e47-8190-5da57ce496e7",
   "metadata": {
    "execution": {
     "iopub.execute_input": "2024-12-17T20:09:28.442464Z",
     "iopub.status.busy": "2024-12-17T20:09:28.441266Z",
     "iopub.status.idle": "2024-12-17T20:18:50.019662Z",
     "shell.execute_reply": "2024-12-17T20:18:50.018783Z",
     "shell.execute_reply.started": "2024-12-17T20:09:28.442417Z"
    },
    "tags": []
   },
   "outputs": [
    {
     "name": "stdout",
     "output_type": "stream",
     "text": [
      "Testing combination: n_estimators=50, learning_rate=0.01, gamma=1.0\n"
     ]
    },
    {
     "name": "stderr",
     "output_type": "stream",
     "text": [
      "/usr/local/lib/python3.10/dist-packages/sklearn/preprocessing/_encoders.py:202: UserWarning: Found unknown categories in columns [1, 2] during transform. These unknown categories will be encoded as all zeros\n",
      "  warnings.warn(\n",
      "/usr/local/lib/python3.10/dist-packages/sklearn/preprocessing/_encoders.py:202: UserWarning: Found unknown categories in columns [1, 2] during transform. These unknown categories will be encoded as all zeros\n",
      "  warnings.warn(\n"
     ]
    },
    {
     "name": "stdout",
     "output_type": "stream",
     "text": [
      "Early stopping at iteration 31. Best iteration: 23 with Accuracy = 0.9994\n",
      "Testing combination: n_estimators=50, learning_rate=0.01, gamma=1.5\n"
     ]
    },
    {
     "name": "stderr",
     "output_type": "stream",
     "text": [
      "/usr/local/lib/python3.10/dist-packages/sklearn/preprocessing/_encoders.py:202: UserWarning: Found unknown categories in columns [1, 2] during transform. These unknown categories will be encoded as all zeros\n",
      "  warnings.warn(\n",
      "/usr/local/lib/python3.10/dist-packages/sklearn/preprocessing/_encoders.py:202: UserWarning: Found unknown categories in columns [1, 2] during transform. These unknown categories will be encoded as all zeros\n",
      "  warnings.warn(\n"
     ]
    },
    {
     "name": "stdout",
     "output_type": "stream",
     "text": [
      "Early stopping at iteration 43. Best iteration: 35 with Accuracy = 0.9981\n",
      "Testing combination: n_estimators=50, learning_rate=0.1, gamma=1.0\n"
     ]
    },
    {
     "name": "stderr",
     "output_type": "stream",
     "text": [
      "/usr/local/lib/python3.10/dist-packages/sklearn/preprocessing/_encoders.py:202: UserWarning: Found unknown categories in columns [1, 2] during transform. These unknown categories will be encoded as all zeros\n",
      "  warnings.warn(\n",
      "/usr/local/lib/python3.10/dist-packages/sklearn/preprocessing/_encoders.py:202: UserWarning: Found unknown categories in columns [1, 2] during transform. These unknown categories will be encoded as all zeros\n",
      "  warnings.warn(\n"
     ]
    },
    {
     "name": "stdout",
     "output_type": "stream",
     "text": [
      "Early stopping at iteration 15. Best iteration: 7 with Accuracy = 0.9706\n",
      "Testing combination: n_estimators=50, learning_rate=0.1, gamma=1.5\n"
     ]
    },
    {
     "name": "stderr",
     "output_type": "stream",
     "text": [
      "/usr/local/lib/python3.10/dist-packages/sklearn/preprocessing/_encoders.py:202: UserWarning: Found unknown categories in columns [1, 2] during transform. These unknown categories will be encoded as all zeros\n",
      "  warnings.warn(\n",
      "/usr/local/lib/python3.10/dist-packages/sklearn/preprocessing/_encoders.py:202: UserWarning: Found unknown categories in columns [1, 2] during transform. These unknown categories will be encoded as all zeros\n",
      "  warnings.warn(\n"
     ]
    },
    {
     "name": "stdout",
     "output_type": "stream",
     "text": [
      "Early stopping at iteration 35. Best iteration: 27 with Accuracy = 0.9994\n",
      "Testing combination: n_estimators=300, learning_rate=0.01, gamma=1.0\n"
     ]
    },
    {
     "name": "stderr",
     "output_type": "stream",
     "text": [
      "/usr/local/lib/python3.10/dist-packages/sklearn/preprocessing/_encoders.py:202: UserWarning: Found unknown categories in columns [1, 2] during transform. These unknown categories will be encoded as all zeros\n",
      "  warnings.warn(\n",
      "/usr/local/lib/python3.10/dist-packages/sklearn/preprocessing/_encoders.py:202: UserWarning: Found unknown categories in columns [1, 2] during transform. These unknown categories will be encoded as all zeros\n",
      "  warnings.warn(\n"
     ]
    },
    {
     "name": "stdout",
     "output_type": "stream",
     "text": [
      "Early stopping at iteration 36. Best iteration: 28 with Accuracy = 0.9994\n",
      "Testing combination: n_estimators=300, learning_rate=0.01, gamma=1.5\n"
     ]
    },
    {
     "name": "stderr",
     "output_type": "stream",
     "text": [
      "/usr/local/lib/python3.10/dist-packages/sklearn/preprocessing/_encoders.py:202: UserWarning: Found unknown categories in columns [1, 2] during transform. These unknown categories will be encoded as all zeros\n",
      "  warnings.warn(\n",
      "/usr/local/lib/python3.10/dist-packages/sklearn/preprocessing/_encoders.py:202: UserWarning: Found unknown categories in columns [1, 2] during transform. These unknown categories will be encoded as all zeros\n",
      "  warnings.warn(\n"
     ]
    },
    {
     "name": "stdout",
     "output_type": "stream",
     "text": [
      "Early stopping at iteration 41. Best iteration: 33 with Accuracy = 1.0000\n",
      "Testing combination: n_estimators=300, learning_rate=0.1, gamma=1.0\n"
     ]
    },
    {
     "name": "stderr",
     "output_type": "stream",
     "text": [
      "/usr/local/lib/python3.10/dist-packages/sklearn/preprocessing/_encoders.py:202: UserWarning: Found unknown categories in columns [1, 2] during transform. These unknown categories will be encoded as all zeros\n",
      "  warnings.warn(\n",
      "/usr/local/lib/python3.10/dist-packages/sklearn/preprocessing/_encoders.py:202: UserWarning: Found unknown categories in columns [1, 2] during transform. These unknown categories will be encoded as all zeros\n",
      "  warnings.warn(\n"
     ]
    },
    {
     "name": "stdout",
     "output_type": "stream",
     "text": [
      "Early stopping at iteration 28. Best iteration: 20 with Accuracy = 0.9975\n",
      "Testing combination: n_estimators=300, learning_rate=0.1, gamma=1.5\n"
     ]
    },
    {
     "name": "stderr",
     "output_type": "stream",
     "text": [
      "/usr/local/lib/python3.10/dist-packages/sklearn/preprocessing/_encoders.py:202: UserWarning: Found unknown categories in columns [1, 2] during transform. These unknown categories will be encoded as all zeros\n",
      "  warnings.warn(\n",
      "/usr/local/lib/python3.10/dist-packages/sklearn/preprocessing/_encoders.py:202: UserWarning: Found unknown categories in columns [1, 2] during transform. These unknown categories will be encoded as all zeros\n",
      "  warnings.warn(\n"
     ]
    },
    {
     "name": "stdout",
     "output_type": "stream",
     "text": [
      "Early stopping at iteration 18. Best iteration: 10 with Accuracy = 0.9219\n",
      "Testing combination: n_estimators=500, learning_rate=0.01, gamma=1.0\n"
     ]
    },
    {
     "name": "stderr",
     "output_type": "stream",
     "text": [
      "/usr/local/lib/python3.10/dist-packages/sklearn/preprocessing/_encoders.py:202: UserWarning: Found unknown categories in columns [1, 2] during transform. These unknown categories will be encoded as all zeros\n",
      "  warnings.warn(\n",
      "/usr/local/lib/python3.10/dist-packages/sklearn/preprocessing/_encoders.py:202: UserWarning: Found unknown categories in columns [1, 2] during transform. These unknown categories will be encoded as all zeros\n",
      "  warnings.warn(\n"
     ]
    },
    {
     "name": "stdout",
     "output_type": "stream",
     "text": [
      "Early stopping at iteration 24. Best iteration: 16 with Accuracy = 0.9994\n",
      "Testing combination: n_estimators=500, learning_rate=0.01, gamma=1.5\n"
     ]
    },
    {
     "name": "stderr",
     "output_type": "stream",
     "text": [
      "/usr/local/lib/python3.10/dist-packages/sklearn/preprocessing/_encoders.py:202: UserWarning: Found unknown categories in columns [1, 2] during transform. These unknown categories will be encoded as all zeros\n",
      "  warnings.warn(\n",
      "/usr/local/lib/python3.10/dist-packages/sklearn/preprocessing/_encoders.py:202: UserWarning: Found unknown categories in columns [1, 2] during transform. These unknown categories will be encoded as all zeros\n",
      "  warnings.warn(\n"
     ]
    },
    {
     "name": "stdout",
     "output_type": "stream",
     "text": [
      "Early stopping at iteration 26. Best iteration: 18 with Accuracy = 0.9994\n",
      "Testing combination: n_estimators=500, learning_rate=0.1, gamma=1.0\n"
     ]
    },
    {
     "name": "stderr",
     "output_type": "stream",
     "text": [
      "/usr/local/lib/python3.10/dist-packages/sklearn/preprocessing/_encoders.py:202: UserWarning: Found unknown categories in columns [1, 2] during transform. These unknown categories will be encoded as all zeros\n",
      "  warnings.warn(\n",
      "/usr/local/lib/python3.10/dist-packages/sklearn/preprocessing/_encoders.py:202: UserWarning: Found unknown categories in columns [1, 2] during transform. These unknown categories will be encoded as all zeros\n",
      "  warnings.warn(\n"
     ]
    },
    {
     "name": "stdout",
     "output_type": "stream",
     "text": [
      "Early stopping at iteration 67. Best iteration: 59 with Accuracy = 0.9988\n",
      "Testing combination: n_estimators=500, learning_rate=0.1, gamma=1.5\n"
     ]
    },
    {
     "name": "stderr",
     "output_type": "stream",
     "text": [
      "/usr/local/lib/python3.10/dist-packages/sklearn/preprocessing/_encoders.py:202: UserWarning: Found unknown categories in columns [1, 2] during transform. These unknown categories will be encoded as all zeros\n",
      "  warnings.warn(\n",
      "/usr/local/lib/python3.10/dist-packages/sklearn/preprocessing/_encoders.py:202: UserWarning: Found unknown categories in columns [1, 2] during transform. These unknown categories will be encoded as all zeros\n",
      "  warnings.warn(\n"
     ]
    },
    {
     "name": "stdout",
     "output_type": "stream",
     "text": [
      "Early stopping at iteration 38. Best iteration: 30 with Accuracy = 1.0000\n",
      "\n",
      "Grid Search Results:\n",
      "    n_estimators  learning_rate  ...  best_val_accuracy  test_accuracy\n",
      "5            300           0.01  ...           1.000000         1.0000\n",
      "11           500           0.10  ...           1.000000         1.0000\n",
      "0             50           0.01  ...           0.999375         0.9995\n",
      "3             50           0.10  ...           0.999375         0.9995\n",
      "4            300           0.01  ...           0.999375         0.9995\n",
      "9            500           0.01  ...           0.999375         0.9995\n",
      "8            500           0.01  ...           0.999375         0.9980\n",
      "10           500           0.10  ...           0.998750         0.9975\n",
      "1             50           0.01  ...           0.998125         0.9970\n",
      "6            300           0.10  ...           0.997500         0.9945\n",
      "2             50           0.10  ...           0.970625         0.9280\n",
      "7            300           0.10  ...           0.921875         0.9140\n",
      "\n",
      "[12 rows x 6 columns]\n",
      "\n",
      "Best Parameters:\n",
      "n_estimators         300.00\n",
      "learning_rate          0.01\n",
      "gamma                  1.50\n",
      "best_iteration        33.00\n",
      "best_val_accuracy      1.00\n",
      "test_accuracy          1.00\n",
      "Name: 5, dtype: float64\n",
      "Early stopping at iteration 26. Best iteration: 18 with Accuracy = 0.9856\n"
     ]
    },
    {
     "data": {
      "image/png": "[encoded data removed]",
      "text/plain": [
       "<Figure size 1000x600 with 1 Axes>"
      ]
     },
     "metadata": {},
     "output_type": "display_data"
    }
   ],
   "source": [
    "from itertools import product\n",
    "import pandas as pd\n",
    "\n",
    "# Определяем параметры для гридсерча\n",
    "param_grid = {\n",
    "    'n_estimators': [50, 300, 500],\n",
    "    'learning_rate': [0.01, 0.1],\n",
    "    'gamma': [1.0, 1.5]\n",
    "}\n",
    "\n",
    "# Получаем все комбинации параметров\n",
    "param_combinations = list(product(param_grid['n_estimators'], param_grid['learning_rate'], param_grid['gamma']))\n",
    "\n",
    "# Результаты будем хранить в списке\n",
    "results = []\n",
    "\n",
    "for n_estimators, learning_rate, gamma in param_combinations:\n",
    "    print(f\"Testing combination: n_estimators={n_estimators}, learning_rate={learning_rate}, gamma={gamma}\")\n",
    "\n",
    "    # Инициализируем модель с текущими параметрами\n",
    "    model = BoostingFocalLossClassifier(\n",
    "        n_estimators=n_estimators, \n",
    "        max_depth=10, \n",
    "        learning_rate=learning_rate, \n",
    "        gamma=gamma, \n",
    "        early_stopping_rounds=8\n",
    "    )\n",
    "\n",
    "    # Преобразуем данные\n",
    "    X_train_transformed = pipeline.named_steps['preprocessor'].fit_transform(X_train_inner)\n",
    "    X_val_transformed = pipeline.named_steps['preprocessor'].transform(X_val)\n",
    "    X_test_transformed = pipeline.named_steps['preprocessor'].transform(X_test)\n",
    "\n",
    "    # Обучаем модель\n",
    "    val_accuracies = model.fit(X_train_transformed, y_train_inner, X_val_transformed, y_val)\n",
    "\n",
    "    # Предсказываем на тестовой выборке\n",
    "    y_pred = model.predict(X_test_transformed)\n",
    "    test_accuracy = accuracy_score(y_test, y_pred)\n",
    "\n",
    "    # Сохраняем результаты\n",
    "    results.append({\n",
    "        'n_estimators': n_estimators,\n",
    "        'learning_rate': learning_rate,\n",
    "        'gamma': gamma,\n",
    "        'best_iteration': model.best_iteration,\n",
    "        'best_val_accuracy': model.best_accuracy,\n",
    "        'test_accuracy': test_accuracy\n",
    "    })\n",
    "\n",
    "# Конвертируем результаты в DataFrame для удобства анализа\n",
    "results_df = pd.DataFrame(results)\n",
    "\n",
    "# Сортируем по наилучшей тестовой точности\n",
    "sorted_results = results_df.sort_values(by='test_accuracy', ascending=False)\n",
    "print(\"\\nGrid Search Results:\")\n",
    "print(sorted_results)\n",
    "\n",
    "# Выводим лучшие параметры\n",
    "best_params = sorted_results.iloc[0]\n",
    "print(\"\\nBest Parameters:\")\n",
    "print(best_params)\n",
    "\n",
    "# Построение графика валидационной точности для лучшей модели\n",
    "best_model = BoostingFocalLossClassifier(\n",
    "    n_estimators=int(best_params['n_estimators']),\n",
    "    max_depth=10,\n",
    "    learning_rate=best_params['learning_rate'],\n",
    "    gamma=best_params['gamma'],\n",
    "    early_stopping_rounds=8\n",
    ")\n",
    "\n",
    "best_model.fit(X_train_transformed, y_train_inner, X_val_transformed, y_val)\n",
    "\n",
    "plt.figure(figsize=(10, 6))\n",
    "plt.plot(range(1, len(val_accuracies) + 1), val_accuracies, marker='o', label=\"Validation Accuracy\")\n",
    "plt.axvline(best_model.best_iteration, color='r', linestyle='--', label=f'Best Iteration = {best_model.best_iteration}')\n",
    "plt.title(\"Validation Accuracy by Iteration (Best Model)\")\n",
    "plt.xlabel(\"Iteration\")\n",
    "plt.ylabel(\"Accuracy\")\n",
    "plt.legend()\n",
    "plt.grid()\n",
    "plt.show()"
   ]
  },
  {
   "cell_type": "code",
   "execution_count": 40,
   "id": "8949508d-4e30-4f61-94b8-a7dd861079b7",
   "metadata": {
    "execution": {
     "iopub.execute_input": "2024-12-17T20:20:24.305348Z",
     "iopub.status.busy": "2024-12-17T20:20:24.304359Z",
     "iopub.status.idle": "2024-12-17T20:20:24.345550Z",
     "shell.execute_reply": "2024-12-17T20:20:24.344607Z",
     "shell.execute_reply.started": "2024-12-17T20:20:24.305307Z"
    },
    "tags": []
   },
   "outputs": [],
   "source": [
    "class BoostingFocalLossClassifier:\n",
    "    def __init__(self, n_estimators=300, max_depth=10, learning_rate=0.1, gamma=2, early_stopping_rounds=5):\n",
    "        self.n_estimators = n_estimators\n",
    "        self.max_depth = max_depth\n",
    "        self.learning_rate = learning_rate\n",
    "        self.gamma = gamma\n",
    "        self.early_stopping_rounds = early_stopping_rounds\n",
    "        self.trees = []\n",
    "        self.best_iteration = 0\n",
    "        self.best_accuracy = 0.0\n",
    "        self.no_improve_count = 0\n",
    "\n",
    "    def fit(self, X, y, X_val=None, y_val=None):\n",
    "        n_samples, n_classes = X.shape[0], len(np.unique(y))\n",
    "        self.classes_ = np.unique(y)\n",
    "        y_pred = np.zeros((n_samples, n_classes), dtype=np.float64)  # Начальные предсказания в виде логитов\n",
    "        val_accuracies = []\n",
    "\n",
    "        for t in range(self.n_estimators):\n",
    "            # Преобразование y_pred в вероятности с помощью softmax\n",
    "            probs = np.exp(y_pred) / np.sum(np.exp(y_pred), axis=1, keepdims=True)\n",
    "            \n",
    "            # One-hot кодирование y\n",
    "            one_hot_y = np.eye(n_classes)[y]\n",
    "\n",
    "            # Вычисляем ошибки (residuals)\n",
    "            residuals = one_hot_y - probs\n",
    "\n",
    "            # Вычисление градиента с учетом фокального лосса\n",
    "            gradient = (self.gamma * residuals * (1 - probs) ** (self.gamma - 1)) * probs\n",
    "\n",
    "            # Используем градиент в качестве мишени для обучения\n",
    "            # Градиенты будем передавать как целевые значения для дерева\n",
    "            tree = DecisionTreeClassifier(max_depth=self.max_depth, max_features=\"sqrt\")\n",
    "            tree.fit(X, np.argmax(gradient, axis=1))  # Используем градиенты для обучения\n",
    "            self.trees.append(tree)\n",
    "\n",
    "            # Обновление предсказаний\n",
    "            y_pred += self.learning_rate * tree.predict_proba(X)\n",
    "\n",
    "            # Оценка на валидационной выборке\n",
    "            if X_val is not None and y_val is not None:\n",
    "                y_val_pred = self.predict(X_val)\n",
    "                current_accuracy = accuracy_score(y_val, y_val_pred)\n",
    "                val_accuracies.append(current_accuracy)\n",
    "\n",
    "                print(f\"Iteration {t + 1}: Validation Accuracy = {current_accuracy:.4f}\")\n",
    "\n",
    "                if current_accuracy > self.best_accuracy:\n",
    "                    self.best_accuracy = current_accuracy\n",
    "                    self.best_iteration = t + 1\n",
    "                    self.no_improve_count = 0\n",
    "                else:\n",
    "                    self.no_improve_count += 1\n",
    "\n",
    "                if self.no_improve_count >= self.early_stopping_rounds:\n",
    "                    print(f\"Early stopping at iteration {t + 1}. Best iteration: {self.best_iteration} with Accuracy = {self.best_accuracy:.4f}\")\n",
    "                    break\n",
    "\n",
    "        return val_accuracies\n",
    "\n",
    "    def predict(self, X):\n",
    "        # Суммируем предсказания всех деревьев\n",
    "        y_pred = np.zeros((X.shape[0], len(self.classes_)), dtype=np.float64)\n",
    "        for tree in self.trees:\n",
    "            y_pred += self.learning_rate * tree.predict_proba(X)\n",
    "\n",
    "        # Преобразуем в вероятности и выбираем класс с максимальной вероятностью\n",
    "        return np.argmax(y_pred, axis=1)"
   ]
  },
  {
   "cell_type": "code",
   "execution_count": 45,
   "id": "e5f9cfe6-3da9-45e8-8cf4-f0f0cd6a9c30",
   "metadata": {
    "execution": {
     "iopub.execute_input": "2024-12-17T20:26:09.981428Z",
     "iopub.status.busy": "2024-12-17T20:26:09.980198Z",
     "iopub.status.idle": "2024-12-17T20:26:44.027282Z",
     "shell.execute_reply": "2024-12-17T20:26:44.026440Z",
     "shell.execute_reply.started": "2024-12-17T20:26:09.981386Z"
    },
    "tags": []
   },
   "outputs": [
    {
     "name": "stderr",
     "output_type": "stream",
     "text": [
      "/usr/local/lib/python3.10/dist-packages/sklearn/preprocessing/_encoders.py:202: UserWarning: Found unknown categories in columns [1, 2] during transform. These unknown categories will be encoded as all zeros\n",
      "  warnings.warn(\n",
      "/usr/local/lib/python3.10/dist-packages/sklearn/preprocessing/_encoders.py:202: UserWarning: Found unknown categories in columns [1, 2] during transform. These unknown categories will be encoded as all zeros\n",
      "  warnings.warn(\n"
     ]
    },
    {
     "name": "stdout",
     "output_type": "stream",
     "text": [
      "Iteration 1: Validation Accuracy = 0.2194\n",
      "Iteration 2: Validation Accuracy = 0.3894\n",
      "Iteration 3: Validation Accuracy = 0.5062\n",
      "Iteration 4: Validation Accuracy = 0.5125\n",
      "Iteration 5: Validation Accuracy = 0.6225\n",
      "Iteration 6: Validation Accuracy = 0.6256\n",
      "Iteration 7: Validation Accuracy = 0.7031\n",
      "Iteration 8: Validation Accuracy = 0.7913\n",
      "Iteration 9: Validation Accuracy = 0.8675\n",
      "Iteration 10: Validation Accuracy = 0.8838\n",
      "Iteration 11: Validation Accuracy = 0.8831\n",
      "Iteration 12: Validation Accuracy = 0.8844\n",
      "Iteration 13: Validation Accuracy = 0.9069\n",
      "Iteration 14: Validation Accuracy = 0.9106\n",
      "Iteration 15: Validation Accuracy = 0.9194\n",
      "Iteration 16: Validation Accuracy = 0.9169\n",
      "Iteration 17: Validation Accuracy = 0.9169\n",
      "Iteration 18: Validation Accuracy = 0.9487\n",
      "Iteration 19: Validation Accuracy = 0.9531\n",
      "Iteration 20: Validation Accuracy = 0.9437\n",
      "Iteration 21: Validation Accuracy = 0.9413\n",
      "Iteration 22: Validation Accuracy = 1.0000\n",
      "Iteration 23: Validation Accuracy = 0.9994\n",
      "Iteration 24: Validation Accuracy = 0.9994\n",
      "Iteration 25: Validation Accuracy = 0.9994\n",
      "Iteration 26: Validation Accuracy = 0.9994\n",
      "Iteration 27: Validation Accuracy = 0.9994\n",
      "Iteration 28: Validation Accuracy = 0.9994\n",
      "Iteration 29: Validation Accuracy = 0.9994\n",
      "Iteration 30: Validation Accuracy = 0.9988\n",
      "Early stopping at iteration 30. Best iteration: 22 with Accuracy = 1.0000\n",
      "Final Test Accuracy: 1.0\n"
     ]
    },
    {
     "data": {
      "image/png": "[encoded data removed]",
      "text/plain": [
       "<Figure size 1000x600 with 1 Axes>"
      ]
     },
     "metadata": {},
     "output_type": "display_data"
    },
    {
     "name": "stdout",
     "output_type": "stream",
     "text": [
      "Total execution time: 0.57 minutes\n"
     ]
    }
   ],
   "source": [
    "# Подготовка данных\n",
    "start_time = time.time()\n",
    "\n",
    "X = data.drop(columns='gym_id')\n",
    "y = data['gym_id'].astype('category').cat.codes\n",
    "\n",
    "categorical_cols = X.select_dtypes(include=['object']).columns.tolist()\n",
    "numerical_cols = X.select_dtypes(include=['int64', 'float64']).columns.tolist()\n",
    "\n",
    "X_train, X_test, y_train, y_test = train_test_split(X, y, test_size=0.2)\n",
    "X_train_inner, X_val, y_train_inner, y_val = train_test_split(X_train, y_train, test_size=0.2)\n",
    "\n",
    "preprocessor = ColumnTransformer(\n",
    "    transformers=[ \n",
    "        ('cat', OneHotEncoder(drop='first', sparse_output=False, handle_unknown='ignore'), categorical_cols),\n",
    "        ('num', StandardScaler(), numerical_cols)\n",
    "    ],\n",
    "    remainder='passthrough'\n",
    ")\n",
    "\n",
    "pipeline = Pipeline(steps=[ \n",
    "    ('preprocessor', preprocessor),\n",
    "    ('model', BoostingFocalLossClassifier(n_estimators=300, max_depth=10, learning_rate=0.01, gamma=1.5, early_stopping_rounds=8))\n",
    "])\n",
    "\n",
    "model = pipeline.named_steps['model']\n",
    "X_train_transformed = pipeline.named_steps['preprocessor'].fit_transform(X_train_inner)\n",
    "X_val_transformed = pipeline.named_steps['preprocessor'].transform(X_val)\n",
    "X_test_transformed = pipeline.named_steps['preprocessor'].transform(X_test)\n",
    "\n",
    "val_accuracies = model.fit(X_train_transformed, y_train_inner, X_val_transformed, y_val)\n",
    "\n",
    "y_pred = model.predict(X_test_transformed)\n",
    "test_accuracy = accuracy_score(y_test, y_pred)\n",
    "\n",
    "print(\"Final Test Accuracy:\", test_accuracy)\n",
    "\n",
    "plt.figure(figsize=(10, 6))\n",
    "plt.plot(range(1, len(val_accuracies) + 1), val_accuracies, marker='o', label=\"Validation Accuracy\")\n",
    "plt.axvline(model.best_iteration, color='r', linestyle='--', label=f'Best Iteration = {model.best_iteration}')\n",
    "plt.title(\"Validation Accuracy by Iteration\")\n",
    "plt.xlabel(\"Iteration\")\n",
    "plt.ylabel(\"Accuracy\")\n",
    "plt.legend()\n",
    "plt.grid()\n",
    "plt.show()\n",
    "\n",
    "end_time = time.time()\n",
    "elapsed_time = (end_time - start_time)/60\n",
    "print(f\"Total execution time: {elapsed_time:.2f} minutes\")"
   ]
  },
  {
   "cell_type": "code",
   "execution_count": 14,
   "id": "76da3cc6-c359-4201-85e3-a7d185485ee0",
   "metadata": {
    "execution": {
     "iopub.execute_input": "2024-12-17T18:10:25.145961Z",
     "iopub.status.busy": "2024-12-17T18:10:25.144775Z",
     "iopub.status.idle": "2024-12-17T18:32:11.629933Z",
     "shell.execute_reply": "2024-12-17T18:32:11.628939Z",
     "shell.execute_reply.started": "2024-12-17T18:10:25.145901Z"
    },
    "tags": []
   },
   "outputs": [
    {
     "name": "stderr",
     "output_type": "stream",
     "text": [
      "/usr/local/lib/python3.10/dist-packages/sklearn/preprocessing/_encoders.py:202: UserWarning: Found unknown categories in columns [1, 2] during transform. These unknown categories will be encoded as all zeros\n",
      "  warnings.warn(\n",
      "/usr/local/lib/python3.10/dist-packages/sklearn/preprocessing/_encoders.py:202: UserWarning: Found unknown categories in columns [1, 2] during transform. These unknown categories will be encoded as all zeros\n",
      "  warnings.warn(\n"
     ]
    },
    {
     "name": "stdout",
     "output_type": "stream",
     "text": [
      "[0]\tvalidation_0-mlogloss:2.25312\n",
      "[10]\tvalidation_0-mlogloss:1.86200\n",
      "[20]\tvalidation_0-mlogloss:1.58567\n",
      "[30]\tvalidation_0-mlogloss:1.37345\n",
      "[40]\tvalidation_0-mlogloss:1.20257\n",
      "[50]\tvalidation_0-mlogloss:1.06080\n",
      "[60]\tvalidation_0-mlogloss:0.94076\n",
      "[70]\tvalidation_0-mlogloss:0.83762\n",
      "[80]\tvalidation_0-mlogloss:0.74806\n",
      "[90]\tvalidation_0-mlogloss:0.66966\n",
      "[100]\tvalidation_0-mlogloss:0.60059\n",
      "[110]\tvalidation_0-mlogloss:0.53945\n",
      "[120]\tvalidation_0-mlogloss:0.48513\n",
      "[130]\tvalidation_0-mlogloss:0.43671\n",
      "[140]\tvalidation_0-mlogloss:0.39345\n",
      "[150]\tvalidation_0-mlogloss:0.35472\n",
      "[160]\tvalidation_0-mlogloss:0.31998\n",
      "[170]\tvalidation_0-mlogloss:0.28879\n",
      "[180]\tvalidation_0-mlogloss:0.26074\n",
      "[190]\tvalidation_0-mlogloss:0.23551\n",
      "[200]\tvalidation_0-mlogloss:0.21278\n",
      "[210]\tvalidation_0-mlogloss:0.19230\n",
      "[220]\tvalidation_0-mlogloss:0.17384\n",
      "[230]\tvalidation_0-mlogloss:0.15718\n",
      "[240]\tvalidation_0-mlogloss:0.14215\n",
      "[250]\tvalidation_0-mlogloss:0.12858\n",
      "[260]\tvalidation_0-mlogloss:0.11632\n",
      "[270]\tvalidation_0-mlogloss:0.10525\n",
      "[280]\tvalidation_0-mlogloss:0.09525\n",
      "[290]\tvalidation_0-mlogloss:0.08621\n",
      "[299]\tvalidation_0-mlogloss:0.07883\n",
      "Final Test Accuracy: 1.0\n",
      "Total execution time: 21.77 minutes\n"
     ]
    }
   ],
   "source": [
    "import xgboost as xgb\n",
    "from sklearn.metrics import accuracy_score\n",
    "from sklearn.model_selection import train_test_split\n",
    "from sklearn.compose import ColumnTransformer\n",
    "from sklearn.preprocessing import OneHotEncoder, StandardScaler\n",
    "from sklearn.pipeline import Pipeline\n",
    "import matplotlib.pyplot as plt\n",
    "\n",
    "start_time = time.time()\n",
    "\n",
    "# Prepare data\n",
    "X = data.drop(columns='gym_id')\n",
    "y = data['gym_id'].astype('category').cat.codes\n",
    "\n",
    "categorical_cols = X.select_dtypes(include=['object']).columns.tolist()\n",
    "numerical_cols = X.select_dtypes(include=['int64', 'float64']).columns.tolist()\n",
    "\n",
    "X_train, X_test, y_train, y_test = train_test_split(X, y, test_size=0.2, random_state=42)\n",
    "X_train_inner, X_val, y_train_inner, y_val = train_test_split(X_train, y_train, test_size=0.2, random_state=42)\n",
    "\n",
    "preprocessor = ColumnTransformer(\n",
    "    transformers=[ \n",
    "        ('cat', OneHotEncoder(drop='first', sparse_output=False, handle_unknown='ignore'), categorical_cols),\n",
    "        ('num', StandardScaler(), numerical_cols)\n",
    "    ],\n",
    "    remainder='passthrough'\n",
    ")\n",
    "\n",
    "# Define pipeline with XGBClassifier\n",
    "pipeline = Pipeline(steps=[ \n",
    "    ('preprocessor', preprocessor),\n",
    "    ('model', xgb.XGBClassifier(n_estimators=300, max_depth=10, learning_rate=0.01, gamma=1.5, early_stopping_rounds=8, objective='multi:softmax'))\n",
    "])\n",
    "\n",
    "# Fit the model\n",
    "model = pipeline.named_steps['model']\n",
    "X_train_transformed = pipeline.named_steps['preprocessor'].fit_transform(X_train_inner)\n",
    "X_val_transformed = pipeline.named_steps['preprocessor'].transform(X_val)\n",
    "X_test_transformed = pipeline.named_steps['preprocessor'].transform(X_test)\n",
    "\n",
    "model.fit(X_train_transformed, y_train_inner, eval_set=[(X_val_transformed, y_val)], verbose=10)\n",
    "\n",
    "# Make predictions\n",
    "y_pred = model.predict(X_test_transformed)\n",
    "test_accuracy = accuracy_score(y_test, y_pred)\n",
    "\n",
    "print(\"Final Test Accuracy:\", test_accuracy)\n",
    "\n",
    "end_time = time.time()\n",
    "elapsed_time = (end_time - start_time)/60\n",
    "print(f\"Total execution time: {elapsed_time:.2f} minutes\")"
   ]
  },
  {
   "cell_type": "code",
   "execution_count": null,
   "id": "4339f33d-ddd5-4bb6-9143-6f316ee5b132",
   "metadata": {},
   "outputs": [],
   "source": []
  }
 ],
 "metadata": {
  "kernelspec": {
   "display_name": "DataSphere Kernel",
   "language": "python",
   "name": "python3"
  },
  "language_info": {
   "codemirror_mode": {
    "name": "ipython",
    "version": 3
   },
   "file_extension": ".py",
   "mimetype": "text/x-python",
   "name": "python",
   "nbconvert_exporter": "python",
   "pygments_lexer": "ipython3",
   "version": "3.10.12"
  }
 },
 "nbformat": 4,
 "nbformat_minor": 5
}
